{
 "cells": [
  {
   "cell_type": "markdown",
   "metadata": {},
   "source": [
    "¡Hola!\n",
    "\n",
    "Mi nombre es Tonatiuh Cruz. Me complace revisar tu proyecto hoy.\n",
    "\n",
    "Al identificar cualquier error inicialmente, simplemente los destacaré. Te animo a localizar y abordar los problemas de forma independiente como parte de tu preparación para un rol como data-scientist. En un entorno profesional, tu líder de equipo seguiría un enfoque similar. Si encuentras la tarea desafiante, proporcionaré una pista más específica en la próxima iteración.\n",
    "\n",
    "Encontrarás mis comentarios a continuación - **por favor no los muevas, modifiques o elimines**.\n",
    "\n",
    "Puedes encontrar mis comentarios en cajas verdes, amarillas o rojas como esta:\n",
    "\n",
    "<div class=\"alert alert-block alert-success\">\n",
    "<b>Comentario del revisor</b> <a class=\"tocSkip\"></a>\n",
    "\n",
    "Éxito. Todo está hecho correctamente.\n",
    "</div>\n",
    "\n",
    "<div class=\"alert alert-block alert-warning\">\n",
    "<b>Comentario del revisor</b> <a class=\"tocSkip\"></a>\n",
    "\n",
    "Observaciones. Algunas recomendaciones.\n",
    "</div>\n",
    "\n",
    "<div class=\"alert alert-block alert-danger\">\n",
    "<b>Comentario del revisor</b> <a class=\"tocSkip\"></a>\n",
    "\n",
    "Necesita corrección. El bloque requiere algunas correcciones. El trabajo no puede ser aceptado con comentarios en rojo.\n",
    "</div>\n",
    "\n",
    "Puedes responderme utilizando esto:\n",
    "\n",
    "<div class=\"alert alert-block alert-info\">\n",
    "<b>Respuesta del estudiante.</b> <a class=\"tocSkip\"></a>\n",
    "</div>"
   ]
  },
  {
   "cell_type": "markdown",
   "metadata": {},
   "source": [
    "<div class=\"alert alert-block alert-warning\">\n",
    "<b>Comentario del revisor</b> <a class=\"tocSkip\"></a>\n",
    "\n",
    "¡Hola! Recuerda que para los ejercicio de análisis de datos es necesario desarrollar la introducción, objetivo y etapas de análisis. Esto es crucial para cualquier proyecto, ya que establece una guía clara sobre los pasos a seguir. Tener estos elementos bien definidos desde el principio nos permite trabajar de manera más organizada y eficiente. En un futuro lo podrías complementar con una tabla de contenido.\n",
    "</div>"
   ]
  },
  {
   "cell_type": "markdown",
   "metadata": {},
   "source": [
    "# Proyecto Integrado (Sprint 6)"
   ]
  },
  {
   "cell_type": "markdown",
   "metadata": {},
   "source": [
    "## Introducción\n",
    "\n",
    "Trabajas para la tienda online Ice que vende videojuegos por todo el mundo. Las reseñas de usuarios y expertos, los géneros, las plataformas (por ejemplo, Xbox o PlayStation) y los datos históricos sobre las ventas de juegos están disponibles en fuentes abiertas. Tienes que identificar patrones que determinen si un juego tiene éxito o no. Esto te permitirá detectar proyectos prometedores y planificar campañas publicitarias.\n",
    "\n",
    "Delante de ti hay datos que se remontan a 2016. Imaginemos que es diciembre de 2016 y estás planeando una campaña para 2017.\n",
    "\n",
    "Lo importante es adquirir experiencia de trabajo con datos. Realmente no importa si estás pronosticando las ventas de 2017 en función de los datos de 2016 o las ventas de 2027 en función de los datos de 2026.\n",
    "\n",
    "El dataset contiene una columna \"rating\" que almacena la clasificación ESRB de cada juego. El Entertainment Software Rating Board (la Junta de clasificación de software de entretenimiento) evalúa el contenido de un juego y asigna una clasificación de edad como Adolescente o Adulto."
   ]
  },
  {
   "cell_type": "markdown",
   "metadata": {},
   "source": [
    "## Objetivo\n",
    "\n",
    "Identificar patrones en las ventas de videjuegos, plataformas y géneros más convenienentes, que sirvan para crear una campaña publicitaria para el año 2017. "
   ]
  },
  {
   "cell_type": "markdown",
   "metadata": {},
   "source": [
    "## Etapas del análisis.\n",
    "\n",
    "- Preparar los datos.\n",
    "    - Hacer las correcciones y adiciones necesarias.\n",
    "- Analizar los datos.\n",
    "    - Juegos lanzados por año.\n",
    "    - Ventas por plataforma.\n",
    "    - Determinar periodo para mayores análisis. \n",
    "        - Plataformas líderes en ventas\n",
    "        - Ventas promedio por plataforma.\n",
    "        - Impacto de las reseñas en las ventas.\n",
    "        - Géneros más rentables. \n",
    "    - Análisis por región.\n",
    "        - Las 5 plataformas con mayor market share.\n",
    "        - Los 5 géneros principales. \n",
    "        - Impacto del rating ESRB en las ventas. \n",
    "- Pruebas de hipótesis.\n"
   ]
  },
  {
   "cell_type": "markdown",
   "metadata": {},
   "source": [
    "## Inicialización"
   ]
  },
  {
   "cell_type": "markdown",
   "metadata": {},
   "source": [
    "### Importar librerías y cargar dataset"
   ]
  },
  {
   "cell_type": "code",
   "execution_count": 1,
   "metadata": {},
   "outputs": [],
   "source": [
    "# Importar librerías\n",
    "\n",
    "import pandas as pd\n",
    "import numpy as np\n",
    "from matplotlib import pyplot as plt\n",
    "import seaborn as sns\n",
    "from scipy import stats as st"
   ]
  },
  {
   "cell_type": "code",
   "execution_count": 2,
   "metadata": {},
   "outputs": [],
   "source": [
    "# Cargar el dataset\n",
    "\n",
    "df = pd.read_csv(\"games.csv\")"
   ]
  },
  {
   "cell_type": "markdown",
   "metadata": {},
   "source": [
    "<div class=\"alert alert-block alert-success\">\n",
    "<b>Comentario del revisor:</b> <a class=\"tocSkip\"></a>\n",
    "    \n",
    "Has realizado un excelente trabajo al importar los datos y las bibliotecas necesarias.\n",
    "\n",
    "</div>"
   ]
  },
  {
   "cell_type": "code",
   "execution_count": 3,
   "metadata": {},
   "outputs": [
    {
     "name": "stdout",
     "output_type": "stream",
     "text": [
      "<class 'pandas.core.frame.DataFrame'>\n",
      "RangeIndex: 16715 entries, 0 to 16714\n",
      "Data columns (total 11 columns):\n",
      " #   Column           Non-Null Count  Dtype  \n",
      "---  ------           --------------  -----  \n",
      " 0   Name             16713 non-null  object \n",
      " 1   Platform         16715 non-null  object \n",
      " 2   Year_of_Release  16446 non-null  float64\n",
      " 3   Genre            16713 non-null  object \n",
      " 4   NA_sales         16715 non-null  float64\n",
      " 5   EU_sales         16715 non-null  float64\n",
      " 6   JP_sales         16715 non-null  float64\n",
      " 7   Other_sales      16715 non-null  float64\n",
      " 8   Critic_Score     8137 non-null   float64\n",
      " 9   User_Score       10014 non-null  object \n",
      " 10  Rating           9949 non-null   object \n",
      "dtypes: float64(6), object(5)\n",
      "memory usage: 1.4+ MB\n"
     ]
    }
   ],
   "source": [
    "# Resumen de la información\n",
    "\n",
    "df.info()"
   ]
  },
  {
   "cell_type": "code",
   "execution_count": 4,
   "metadata": {},
   "outputs": [
    {
     "data": {
      "text/html": [
       "<div>\n",
       "<style scoped>\n",
       "    .dataframe tbody tr th:only-of-type {\n",
       "        vertical-align: middle;\n",
       "    }\n",
       "\n",
       "    .dataframe tbody tr th {\n",
       "        vertical-align: top;\n",
       "    }\n",
       "\n",
       "    .dataframe thead th {\n",
       "        text-align: right;\n",
       "    }\n",
       "</style>\n",
       "<table border=\"1\" class=\"dataframe\">\n",
       "  <thead>\n",
       "    <tr style=\"text-align: right;\">\n",
       "      <th></th>\n",
       "      <th>Name</th>\n",
       "      <th>Platform</th>\n",
       "      <th>Year_of_Release</th>\n",
       "      <th>Genre</th>\n",
       "      <th>NA_sales</th>\n",
       "      <th>EU_sales</th>\n",
       "      <th>JP_sales</th>\n",
       "      <th>Other_sales</th>\n",
       "      <th>Critic_Score</th>\n",
       "      <th>User_Score</th>\n",
       "      <th>Rating</th>\n",
       "    </tr>\n",
       "  </thead>\n",
       "  <tbody>\n",
       "    <tr>\n",
       "      <th>0</th>\n",
       "      <td>Wii Sports</td>\n",
       "      <td>Wii</td>\n",
       "      <td>2006.0</td>\n",
       "      <td>Sports</td>\n",
       "      <td>41.36</td>\n",
       "      <td>28.96</td>\n",
       "      <td>3.77</td>\n",
       "      <td>8.45</td>\n",
       "      <td>76.0</td>\n",
       "      <td>8</td>\n",
       "      <td>E</td>\n",
       "    </tr>\n",
       "    <tr>\n",
       "      <th>1</th>\n",
       "      <td>Super Mario Bros.</td>\n",
       "      <td>NES</td>\n",
       "      <td>1985.0</td>\n",
       "      <td>Platform</td>\n",
       "      <td>29.08</td>\n",
       "      <td>3.58</td>\n",
       "      <td>6.81</td>\n",
       "      <td>0.77</td>\n",
       "      <td>NaN</td>\n",
       "      <td>NaN</td>\n",
       "      <td>NaN</td>\n",
       "    </tr>\n",
       "    <tr>\n",
       "      <th>2</th>\n",
       "      <td>Mario Kart Wii</td>\n",
       "      <td>Wii</td>\n",
       "      <td>2008.0</td>\n",
       "      <td>Racing</td>\n",
       "      <td>15.68</td>\n",
       "      <td>12.76</td>\n",
       "      <td>3.79</td>\n",
       "      <td>3.29</td>\n",
       "      <td>82.0</td>\n",
       "      <td>8.3</td>\n",
       "      <td>E</td>\n",
       "    </tr>\n",
       "    <tr>\n",
       "      <th>3</th>\n",
       "      <td>Wii Sports Resort</td>\n",
       "      <td>Wii</td>\n",
       "      <td>2009.0</td>\n",
       "      <td>Sports</td>\n",
       "      <td>15.61</td>\n",
       "      <td>10.93</td>\n",
       "      <td>3.28</td>\n",
       "      <td>2.95</td>\n",
       "      <td>80.0</td>\n",
       "      <td>8</td>\n",
       "      <td>E</td>\n",
       "    </tr>\n",
       "    <tr>\n",
       "      <th>4</th>\n",
       "      <td>Pokemon Red/Pokemon Blue</td>\n",
       "      <td>GB</td>\n",
       "      <td>1996.0</td>\n",
       "      <td>Role-Playing</td>\n",
       "      <td>11.27</td>\n",
       "      <td>8.89</td>\n",
       "      <td>10.22</td>\n",
       "      <td>1.00</td>\n",
       "      <td>NaN</td>\n",
       "      <td>NaN</td>\n",
       "      <td>NaN</td>\n",
       "    </tr>\n",
       "  </tbody>\n",
       "</table>\n",
       "</div>"
      ],
      "text/plain": [
       "                       Name Platform  Year_of_Release         Genre  NA_sales  \\\n",
       "0                Wii Sports      Wii           2006.0        Sports     41.36   \n",
       "1         Super Mario Bros.      NES           1985.0      Platform     29.08   \n",
       "2            Mario Kart Wii      Wii           2008.0        Racing     15.68   \n",
       "3         Wii Sports Resort      Wii           2009.0        Sports     15.61   \n",
       "4  Pokemon Red/Pokemon Blue       GB           1996.0  Role-Playing     11.27   \n",
       "\n",
       "   EU_sales  JP_sales  Other_sales  Critic_Score User_Score Rating  \n",
       "0     28.96      3.77         8.45          76.0          8      E  \n",
       "1      3.58      6.81         0.77           NaN        NaN    NaN  \n",
       "2     12.76      3.79         3.29          82.0        8.3      E  \n",
       "3     10.93      3.28         2.95          80.0          8      E  \n",
       "4      8.89     10.22         1.00           NaN        NaN    NaN  "
      ]
     },
     "execution_count": 4,
     "metadata": {},
     "output_type": "execute_result"
    }
   ],
   "source": [
    "# Impresión de primeras filas\n",
    "\n",
    "df.head()"
   ]
  },
  {
   "cell_type": "markdown",
   "metadata": {},
   "source": [
    "<span style=\"color:blue\"> Comentario: \n",
    "- Existen valores nulos en las columnas: 2 en Name, 269 en Year_of_Release, 2 en Genre, 8578 en Critic_Score, 6701 en User_Score y 6766 en Rating. \n",
    "- Los tipos de datos para Year_of_Release y User_Score son inadecuados, deberán cambiarse por tipo datetime, para el primero, y float para el segundo. Estos cambios permitirán hacer operaciones correctamente con esos datos, si es necesario.  \n",
    "- Los nombres de las columnas tienen un estilo inadecuado, deberán cambiarse por minúsculas.\n",
    "</span>\n"
   ]
  },
  {
   "cell_type": "markdown",
   "metadata": {},
   "source": [
    "## Preparación de los datos"
   ]
  },
  {
   "cell_type": "markdown",
   "metadata": {},
   "source": [
    "### Corrección de los datos"
   ]
  },
  {
   "cell_type": "code",
   "execution_count": 5,
   "metadata": {},
   "outputs": [],
   "source": [
    "# Cambio a minúsculas en los nombres de las columnas\n",
    "\n",
    "df.columns = df.columns.str.lower()"
   ]
  },
  {
   "cell_type": "code",
   "execution_count": 6,
   "metadata": {},
   "outputs": [
    {
     "data": {
      "text/html": [
       "<div>\n",
       "<style scoped>\n",
       "    .dataframe tbody tr th:only-of-type {\n",
       "        vertical-align: middle;\n",
       "    }\n",
       "\n",
       "    .dataframe tbody tr th {\n",
       "        vertical-align: top;\n",
       "    }\n",
       "\n",
       "    .dataframe thead th {\n",
       "        text-align: right;\n",
       "    }\n",
       "</style>\n",
       "<table border=\"1\" class=\"dataframe\">\n",
       "  <thead>\n",
       "    <tr style=\"text-align: right;\">\n",
       "      <th></th>\n",
       "      <th>name</th>\n",
       "      <th>platform</th>\n",
       "      <th>year_of_release</th>\n",
       "      <th>genre</th>\n",
       "      <th>na_sales</th>\n",
       "      <th>eu_sales</th>\n",
       "      <th>jp_sales</th>\n",
       "      <th>other_sales</th>\n",
       "      <th>critic_score</th>\n",
       "      <th>user_score</th>\n",
       "      <th>rating</th>\n",
       "    </tr>\n",
       "  </thead>\n",
       "  <tbody>\n",
       "    <tr>\n",
       "      <th>0</th>\n",
       "      <td>Wii Sports</td>\n",
       "      <td>Wii</td>\n",
       "      <td>2006-01-01</td>\n",
       "      <td>Sports</td>\n",
       "      <td>41.36</td>\n",
       "      <td>28.96</td>\n",
       "      <td>3.77</td>\n",
       "      <td>8.45</td>\n",
       "      <td>76.0</td>\n",
       "      <td>8</td>\n",
       "      <td>E</td>\n",
       "    </tr>\n",
       "    <tr>\n",
       "      <th>1</th>\n",
       "      <td>Super Mario Bros.</td>\n",
       "      <td>NES</td>\n",
       "      <td>1985-01-01</td>\n",
       "      <td>Platform</td>\n",
       "      <td>29.08</td>\n",
       "      <td>3.58</td>\n",
       "      <td>6.81</td>\n",
       "      <td>0.77</td>\n",
       "      <td>NaN</td>\n",
       "      <td>NaN</td>\n",
       "      <td>NaN</td>\n",
       "    </tr>\n",
       "    <tr>\n",
       "      <th>2</th>\n",
       "      <td>Mario Kart Wii</td>\n",
       "      <td>Wii</td>\n",
       "      <td>2008-01-01</td>\n",
       "      <td>Racing</td>\n",
       "      <td>15.68</td>\n",
       "      <td>12.76</td>\n",
       "      <td>3.79</td>\n",
       "      <td>3.29</td>\n",
       "      <td>82.0</td>\n",
       "      <td>8.3</td>\n",
       "      <td>E</td>\n",
       "    </tr>\n",
       "    <tr>\n",
       "      <th>3</th>\n",
       "      <td>Wii Sports Resort</td>\n",
       "      <td>Wii</td>\n",
       "      <td>2009-01-01</td>\n",
       "      <td>Sports</td>\n",
       "      <td>15.61</td>\n",
       "      <td>10.93</td>\n",
       "      <td>3.28</td>\n",
       "      <td>2.95</td>\n",
       "      <td>80.0</td>\n",
       "      <td>8</td>\n",
       "      <td>E</td>\n",
       "    </tr>\n",
       "    <tr>\n",
       "      <th>4</th>\n",
       "      <td>Pokemon Red/Pokemon Blue</td>\n",
       "      <td>GB</td>\n",
       "      <td>1996-01-01</td>\n",
       "      <td>Role-Playing</td>\n",
       "      <td>11.27</td>\n",
       "      <td>8.89</td>\n",
       "      <td>10.22</td>\n",
       "      <td>1.00</td>\n",
       "      <td>NaN</td>\n",
       "      <td>NaN</td>\n",
       "      <td>NaN</td>\n",
       "    </tr>\n",
       "  </tbody>\n",
       "</table>\n",
       "</div>"
      ],
      "text/plain": [
       "                       name platform year_of_release         genre  na_sales  \\\n",
       "0                Wii Sports      Wii      2006-01-01        Sports     41.36   \n",
       "1         Super Mario Bros.      NES      1985-01-01      Platform     29.08   \n",
       "2            Mario Kart Wii      Wii      2008-01-01        Racing     15.68   \n",
       "3         Wii Sports Resort      Wii      2009-01-01        Sports     15.61   \n",
       "4  Pokemon Red/Pokemon Blue       GB      1996-01-01  Role-Playing     11.27   \n",
       "\n",
       "   eu_sales  jp_sales  other_sales  critic_score user_score rating  \n",
       "0     28.96      3.77         8.45          76.0          8      E  \n",
       "1      3.58      6.81         0.77           NaN        NaN    NaN  \n",
       "2     12.76      3.79         3.29          82.0        8.3      E  \n",
       "3     10.93      3.28         2.95          80.0          8      E  \n",
       "4      8.89     10.22         1.00           NaN        NaN    NaN  "
      ]
     },
     "execution_count": 6,
     "metadata": {},
     "output_type": "execute_result"
    }
   ],
   "source": [
    "# Cambio en el tipo de datos de la columna year_of_release a datetime\n",
    "\n",
    "df['year_of_release'] = pd.to_datetime(df['year_of_release'], format='%Y')\n",
    "\n",
    "df.head()"
   ]
  },
  {
   "cell_type": "markdown",
   "metadata": {},
   "source": [
    "<div class=\"alert alert-block alert-info\">\n",
    "    <b>Comentario del revisor:</b> <a class=\"tocSkip\"></a>\n",
    "    \n",
    "En ocasiones podemos completar los valores faltantes con información recaba mediante una investigación. Es muy común que cuando trabajamos con datos en la vida real, mucho de estos vengan con valores nulos que en ocasiones tendremos que completar con proxys\n",
    "</div>"
   ]
  },
  {
   "cell_type": "markdown",
   "metadata": {},
   "source": [
    "<div class=\"alert alert-block alert-info\">\n",
    "<b>Respuesta del estudiante.</b> <a class=\"tocSkip\"></a>\n",
    "\n",
    "Hola Tonatihu, ¿qué significa proxys?\n",
    "</div>"
   ]
  },
  {
   "cell_type": "markdown",
   "metadata": {},
   "source": [
    "<div class=\"alert alert-block alert-info\">\n",
    "<b>Comentario del revisor</b> <a class=\"tocSkip\"></a>\n",
    "\n",
    "Significan valores que se pueden aproximar al valor real. Estos se usan cuando no contamos con los valores como tal y tenemos que construir una aproximación a estos valores\n",
    "</div>"
   ]
  },
  {
   "cell_type": "markdown",
   "metadata": {},
   "source": [
    "<span style=\"color:blue\"> Comentario: \n",
    "\n",
    "- En un primer intento de cambiar los datos de la columna user_score por tipo númerico, aparece el error: \n",
    "\n",
    "        ValueError: Unable to parse string \"tbd\" at position 119  \n",
    "\n",
    "- Se procede a realizar un análisis mayor: \n",
    "        ¿cuántos valores \"tbd\" hay?\n",
    "        ¿hay valores \"tbd\" en otras columnas?"
   ]
  },
  {
   "cell_type": "code",
   "execution_count": 7,
   "metadata": {},
   "outputs": [
    {
     "data": {
      "text/plain": [
       "2424"
      ]
     },
     "execution_count": 7,
     "metadata": {},
     "output_type": "execute_result"
    }
   ],
   "source": [
    "# Conteo de valores \"tbd\" en la columna user_score\n",
    "\n",
    "(df['user_score'] == 'tbd').sum()\n"
   ]
  },
  {
   "cell_type": "code",
   "execution_count": 8,
   "metadata": {},
   "outputs": [
    {
     "data": {
      "text/plain": [
       "rating\n",
       "E       3990\n",
       "T       2961\n",
       "M       1563\n",
       "E10+    1420\n",
       "EC         8\n",
       "K-A        3\n",
       "RP         3\n",
       "AO         1\n",
       "Name: count, dtype: int64"
      ]
     },
     "execution_count": 8,
     "metadata": {},
     "output_type": "execute_result"
    }
   ],
   "source": [
    "# Búsqueda de valores únicos en la columna rating\n",
    "\n",
    "df['rating'].value_counts()"
   ]
  },
  {
   "cell_type": "markdown",
   "metadata": {},
   "source": [
    "<span style=\"color:blue\"> Comentario: \n",
    "\n",
    "Existen 2424 \"tbd\" en la columna user_score, sin presencia en la columna rating. Para lograr consistencia en los valores de la columna user_score, se convertira a datos float64 y los valores \"tbd\" en ausentes."
   ]
  },
  {
   "cell_type": "code",
   "execution_count": 9,
   "metadata": {},
   "outputs": [
    {
     "data": {
      "text/plain": [
       "dtype('float64')"
      ]
     },
     "execution_count": 9,
     "metadata": {},
     "output_type": "execute_result"
    }
   ],
   "source": [
    "# Cambio en la columna user_score a datos float64, cambiando los valores \"tbd\" por NaN\n",
    "\n",
    "df['user_score'] = pd.to_numeric(df['user_score'], 'coerce')\n",
    "\n",
    "# Verificación del cambio\n",
    "\n",
    "df['user_score'].dtypes"
   ]
  },
  {
   "cell_type": "markdown",
   "metadata": {},
   "source": [
    "<div class=\"alert alert-block alert-success\">\n",
    "    <b>Comentario del revisor:</b> <a class=\"tocSkip\"></a>\n",
    "    \n",
    "Gran trabajo con el los ajustes en las dos variables anteriores. \n",
    "</div>"
   ]
  },
  {
   "cell_type": "markdown",
   "metadata": {},
   "source": [
    "### Tratamiento de valores duplicados y ausentes"
   ]
  },
  {
   "cell_type": "code",
   "execution_count": 10,
   "metadata": {},
   "outputs": [
    {
     "data": {
      "text/plain": [
       "0"
      ]
     },
     "execution_count": 10,
     "metadata": {},
     "output_type": "execute_result"
    }
   ],
   "source": [
    "# Búsqueda de valores totalmente duplicados\n",
    "\n",
    "df.duplicated().sum()"
   ]
  },
  {
   "cell_type": "code",
   "execution_count": 11,
   "metadata": {},
   "outputs": [
    {
     "data": {
      "text/plain": [
       "5155"
      ]
     },
     "execution_count": 11,
     "metadata": {},
     "output_type": "execute_result"
    }
   ],
   "source": [
    "# Búsqueda de duplicados en la columna de videojuegos\n",
    "\n",
    "df['name'].duplicated().sum()"
   ]
  },
  {
   "cell_type": "markdown",
   "metadata": {},
   "source": [
    "<div class=\"alert alert-block alert-success\">\n",
    "    <b>Comentario del revisor:</b> <a class=\"tocSkip\"></a>\n",
    "    \n",
    " Como aprendiste en cursos anteriores, el análisis de registros duplicados es esencial en el análisis de datos para evitar que sesguen nuestros resultados.\n",
    "</div>"
   ]
  },
  {
   "cell_type": "code",
   "execution_count": 12,
   "metadata": {},
   "outputs": [
    {
     "data": {
      "text/plain": [
       "name                0.011965\n",
       "platform            0.000000\n",
       "year_of_release     1.609333\n",
       "genre               0.011965\n",
       "na_sales            0.000000\n",
       "eu_sales            0.000000\n",
       "jp_sales            0.000000\n",
       "other_sales         0.000000\n",
       "critic_score       51.319174\n",
       "user_score         54.591684\n",
       "rating             40.478612\n",
       "dtype: float64"
      ]
     },
     "execution_count": 12,
     "metadata": {},
     "output_type": "execute_result"
    }
   ],
   "source": [
    "# Porcentaje de valores ausentes en el dataset \n",
    "\n",
    "100 * df.isna().sum() / df.shape[0]"
   ]
  },
  {
   "cell_type": "markdown",
   "metadata": {},
   "source": [
    "<span style=\"color:blue\"> Comentario: \n",
    "- No hay filas totalmente duplicadas, pero sí hay 5155 juegos duplicados, debido a que fueron listados en varias plataformas simultáneamente o en diferentes años.\n",
    "- Es lógico que haya valores duplicados en las columnas de score, por lo que no haré análisis en ellas. \n",
    "- Existen valores nulos en las columnas: name, year_of_release, genre, critic_score, user_score y rating. \n",
    "    - <span style=\"color:green\">El porcentaje de valores nulos en las columnas name, year_of_release y genre, respecto a los datos totales, es muy bajo, por lo que los eliminaré.</span>\n",
    "    - <span style=\"color:orange\"> El porcentaje de valores nulos en los datos de critic_score, user_score y rating es demasiado alto, por lo que no puedo modificar esos valores o eliminarlos, ya que sesgaría los datos o alteraría los valores para análisis posteriores.</span> \n",
    "        - Examinaré los años en los que hay más valores ausentes. "
   ]
  },
  {
   "cell_type": "code",
   "execution_count": 13,
   "metadata": {},
   "outputs": [
    {
     "name": "stdout",
     "output_type": "stream",
     "text": [
      "<class 'pandas.core.frame.DataFrame'>\n",
      "Index: 16444 entries, 0 to 16714\n",
      "Data columns (total 11 columns):\n",
      " #   Column           Non-Null Count  Dtype         \n",
      "---  ------           --------------  -----         \n",
      " 0   name             16444 non-null  object        \n",
      " 1   platform         16444 non-null  object        \n",
      " 2   year_of_release  16444 non-null  datetime64[ns]\n",
      " 3   genre            16444 non-null  object        \n",
      " 4   na_sales         16444 non-null  float64       \n",
      " 5   eu_sales         16444 non-null  float64       \n",
      " 6   jp_sales         16444 non-null  float64       \n",
      " 7   other_sales      16444 non-null  float64       \n",
      " 8   critic_score     7983 non-null   float64       \n",
      " 9   user_score       7463 non-null   float64       \n",
      " 10  rating           9768 non-null   object        \n",
      "dtypes: datetime64[ns](1), float64(6), object(4)\n",
      "memory usage: 1.5+ MB\n"
     ]
    }
   ],
   "source": [
    "# Eliminación de datos ausentes en las columnas year_of_release, name y genre.\n",
    "\n",
    "df = df.dropna(subset=['year_of_release', 'name', 'genre'])\n",
    "\n",
    "# Confirmo el cambio en la información del dataframe\n",
    "\n",
    "df.info()"
   ]
  },
  {
   "cell_type": "code",
   "execution_count": 14,
   "metadata": {},
   "outputs": [
    {
     "data": {
      "text/plain": [
       "year_of_release\n",
       "1980-01-01      9\n",
       "1985-01-01     13\n",
       "1988-01-01     14\n",
       "1984-01-01     14\n",
       "1987-01-01     16\n",
       "1990-01-01     16\n",
       "1989-01-01     17\n",
       "1983-01-01     17\n",
       "1986-01-01     21\n",
       "1982-01-01     36\n",
       "1991-01-01     41\n",
       "1992-01-01     42\n",
       "1981-01-01     46\n",
       "1993-01-01     60\n",
       "1994-01-01    120\n",
       "1995-01-01    219\n",
       "2001-01-01    225\n",
       "2016-01-01    240\n",
       "2013-01-01    240\n",
       "2000-01-01    243\n",
       "2014-01-01    252\n",
       "1996-01-01    255\n",
       "2003-01-01    259\n",
       "1997-01-01    271\n",
       "2004-01-01    273\n",
       "1999-01-01    307\n",
       "2015-01-01    309\n",
       "2012-01-01    314\n",
       "1998-01-01    348\n",
       "2005-01-01    356\n",
       "2002-01-01    365\n",
       "2006-01-01    454\n",
       "2007-01-01    568\n",
       "2011-01-01    635\n",
       "2008-01-01    766\n",
       "2010-01-01    788\n",
       "2009-01-01    812\n",
       "Name: count, dtype: int64"
      ]
     },
     "execution_count": 14,
     "metadata": {},
     "output_type": "execute_result"
    }
   ],
   "source": [
    "# Conteo de valores ausentes en user_score por año de lanzamiento\n",
    "\n",
    "df[df['user_score'].isna()]['year_of_release'].value_counts().sort_values()"
   ]
  },
  {
   "cell_type": "markdown",
   "metadata": {},
   "source": [
    "<span style='color:blue'> Comentario: </span>\n",
    "\n",
    "<span style='color:orange'> La mayor ausencia de score de usuarios se ha dado en los videojuegos lanzados después del año 2000. Estos años serán analizados más adelante, por lo que, modificar los score o eliminarlos pondría en riesgo su integridad para los análisis siguientes. </span>"
   ]
  },
  {
   "cell_type": "markdown",
   "metadata": {},
   "source": [
    "## Enriquecer los datos"
   ]
  },
  {
   "cell_type": "markdown",
   "metadata": {},
   "source": [
    "### Adición de columna total_sales"
   ]
  },
  {
   "cell_type": "code",
   "execution_count": 15,
   "metadata": {},
   "outputs": [
    {
     "data": {
      "text/html": [
       "<div>\n",
       "<style scoped>\n",
       "    .dataframe tbody tr th:only-of-type {\n",
       "        vertical-align: middle;\n",
       "    }\n",
       "\n",
       "    .dataframe tbody tr th {\n",
       "        vertical-align: top;\n",
       "    }\n",
       "\n",
       "    .dataframe thead th {\n",
       "        text-align: right;\n",
       "    }\n",
       "</style>\n",
       "<table border=\"1\" class=\"dataframe\">\n",
       "  <thead>\n",
       "    <tr style=\"text-align: right;\">\n",
       "      <th></th>\n",
       "      <th>name</th>\n",
       "      <th>platform</th>\n",
       "      <th>year_of_release</th>\n",
       "      <th>genre</th>\n",
       "      <th>na_sales</th>\n",
       "      <th>eu_sales</th>\n",
       "      <th>jp_sales</th>\n",
       "      <th>other_sales</th>\n",
       "      <th>critic_score</th>\n",
       "      <th>user_score</th>\n",
       "      <th>rating</th>\n",
       "      <th>total_sales</th>\n",
       "    </tr>\n",
       "  </thead>\n",
       "  <tbody>\n",
       "    <tr>\n",
       "      <th>0</th>\n",
       "      <td>Wii Sports</td>\n",
       "      <td>Wii</td>\n",
       "      <td>2006-01-01</td>\n",
       "      <td>Sports</td>\n",
       "      <td>41.36</td>\n",
       "      <td>28.96</td>\n",
       "      <td>3.77</td>\n",
       "      <td>8.45</td>\n",
       "      <td>76.0</td>\n",
       "      <td>8.0</td>\n",
       "      <td>E</td>\n",
       "      <td>82.54</td>\n",
       "    </tr>\n",
       "    <tr>\n",
       "      <th>1</th>\n",
       "      <td>Super Mario Bros.</td>\n",
       "      <td>NES</td>\n",
       "      <td>1985-01-01</td>\n",
       "      <td>Platform</td>\n",
       "      <td>29.08</td>\n",
       "      <td>3.58</td>\n",
       "      <td>6.81</td>\n",
       "      <td>0.77</td>\n",
       "      <td>NaN</td>\n",
       "      <td>NaN</td>\n",
       "      <td>NaN</td>\n",
       "      <td>40.24</td>\n",
       "    </tr>\n",
       "    <tr>\n",
       "      <th>2</th>\n",
       "      <td>Mario Kart Wii</td>\n",
       "      <td>Wii</td>\n",
       "      <td>2008-01-01</td>\n",
       "      <td>Racing</td>\n",
       "      <td>15.68</td>\n",
       "      <td>12.76</td>\n",
       "      <td>3.79</td>\n",
       "      <td>3.29</td>\n",
       "      <td>82.0</td>\n",
       "      <td>8.3</td>\n",
       "      <td>E</td>\n",
       "      <td>35.52</td>\n",
       "    </tr>\n",
       "    <tr>\n",
       "      <th>3</th>\n",
       "      <td>Wii Sports Resort</td>\n",
       "      <td>Wii</td>\n",
       "      <td>2009-01-01</td>\n",
       "      <td>Sports</td>\n",
       "      <td>15.61</td>\n",
       "      <td>10.93</td>\n",
       "      <td>3.28</td>\n",
       "      <td>2.95</td>\n",
       "      <td>80.0</td>\n",
       "      <td>8.0</td>\n",
       "      <td>E</td>\n",
       "      <td>32.77</td>\n",
       "    </tr>\n",
       "    <tr>\n",
       "      <th>4</th>\n",
       "      <td>Pokemon Red/Pokemon Blue</td>\n",
       "      <td>GB</td>\n",
       "      <td>1996-01-01</td>\n",
       "      <td>Role-Playing</td>\n",
       "      <td>11.27</td>\n",
       "      <td>8.89</td>\n",
       "      <td>10.22</td>\n",
       "      <td>1.00</td>\n",
       "      <td>NaN</td>\n",
       "      <td>NaN</td>\n",
       "      <td>NaN</td>\n",
       "      <td>31.38</td>\n",
       "    </tr>\n",
       "    <tr>\n",
       "      <th>...</th>\n",
       "      <td>...</td>\n",
       "      <td>...</td>\n",
       "      <td>...</td>\n",
       "      <td>...</td>\n",
       "      <td>...</td>\n",
       "      <td>...</td>\n",
       "      <td>...</td>\n",
       "      <td>...</td>\n",
       "      <td>...</td>\n",
       "      <td>...</td>\n",
       "      <td>...</td>\n",
       "      <td>...</td>\n",
       "    </tr>\n",
       "    <tr>\n",
       "      <th>16710</th>\n",
       "      <td>Samurai Warriors: Sanada Maru</td>\n",
       "      <td>PS3</td>\n",
       "      <td>2016-01-01</td>\n",
       "      <td>Action</td>\n",
       "      <td>0.00</td>\n",
       "      <td>0.00</td>\n",
       "      <td>0.01</td>\n",
       "      <td>0.00</td>\n",
       "      <td>NaN</td>\n",
       "      <td>NaN</td>\n",
       "      <td>NaN</td>\n",
       "      <td>0.01</td>\n",
       "    </tr>\n",
       "    <tr>\n",
       "      <th>16711</th>\n",
       "      <td>LMA Manager 2007</td>\n",
       "      <td>X360</td>\n",
       "      <td>2006-01-01</td>\n",
       "      <td>Sports</td>\n",
       "      <td>0.00</td>\n",
       "      <td>0.01</td>\n",
       "      <td>0.00</td>\n",
       "      <td>0.00</td>\n",
       "      <td>NaN</td>\n",
       "      <td>NaN</td>\n",
       "      <td>NaN</td>\n",
       "      <td>0.01</td>\n",
       "    </tr>\n",
       "    <tr>\n",
       "      <th>16712</th>\n",
       "      <td>Haitaka no Psychedelica</td>\n",
       "      <td>PSV</td>\n",
       "      <td>2016-01-01</td>\n",
       "      <td>Adventure</td>\n",
       "      <td>0.00</td>\n",
       "      <td>0.00</td>\n",
       "      <td>0.01</td>\n",
       "      <td>0.00</td>\n",
       "      <td>NaN</td>\n",
       "      <td>NaN</td>\n",
       "      <td>NaN</td>\n",
       "      <td>0.01</td>\n",
       "    </tr>\n",
       "    <tr>\n",
       "      <th>16713</th>\n",
       "      <td>Spirits &amp; Spells</td>\n",
       "      <td>GBA</td>\n",
       "      <td>2003-01-01</td>\n",
       "      <td>Platform</td>\n",
       "      <td>0.01</td>\n",
       "      <td>0.00</td>\n",
       "      <td>0.00</td>\n",
       "      <td>0.00</td>\n",
       "      <td>NaN</td>\n",
       "      <td>NaN</td>\n",
       "      <td>NaN</td>\n",
       "      <td>0.01</td>\n",
       "    </tr>\n",
       "    <tr>\n",
       "      <th>16714</th>\n",
       "      <td>Winning Post 8 2016</td>\n",
       "      <td>PSV</td>\n",
       "      <td>2016-01-01</td>\n",
       "      <td>Simulation</td>\n",
       "      <td>0.00</td>\n",
       "      <td>0.00</td>\n",
       "      <td>0.01</td>\n",
       "      <td>0.00</td>\n",
       "      <td>NaN</td>\n",
       "      <td>NaN</td>\n",
       "      <td>NaN</td>\n",
       "      <td>0.01</td>\n",
       "    </tr>\n",
       "  </tbody>\n",
       "</table>\n",
       "<p>16444 rows × 12 columns</p>\n",
       "</div>"
      ],
      "text/plain": [
       "                                name platform year_of_release         genre  \\\n",
       "0                         Wii Sports      Wii      2006-01-01        Sports   \n",
       "1                  Super Mario Bros.      NES      1985-01-01      Platform   \n",
       "2                     Mario Kart Wii      Wii      2008-01-01        Racing   \n",
       "3                  Wii Sports Resort      Wii      2009-01-01        Sports   \n",
       "4           Pokemon Red/Pokemon Blue       GB      1996-01-01  Role-Playing   \n",
       "...                              ...      ...             ...           ...   \n",
       "16710  Samurai Warriors: Sanada Maru      PS3      2016-01-01        Action   \n",
       "16711               LMA Manager 2007     X360      2006-01-01        Sports   \n",
       "16712        Haitaka no Psychedelica      PSV      2016-01-01     Adventure   \n",
       "16713               Spirits & Spells      GBA      2003-01-01      Platform   \n",
       "16714            Winning Post 8 2016      PSV      2016-01-01    Simulation   \n",
       "\n",
       "       na_sales  eu_sales  jp_sales  other_sales  critic_score  user_score  \\\n",
       "0         41.36     28.96      3.77         8.45          76.0         8.0   \n",
       "1         29.08      3.58      6.81         0.77           NaN         NaN   \n",
       "2         15.68     12.76      3.79         3.29          82.0         8.3   \n",
       "3         15.61     10.93      3.28         2.95          80.0         8.0   \n",
       "4         11.27      8.89     10.22         1.00           NaN         NaN   \n",
       "...         ...       ...       ...          ...           ...         ...   \n",
       "16710      0.00      0.00      0.01         0.00           NaN         NaN   \n",
       "16711      0.00      0.01      0.00         0.00           NaN         NaN   \n",
       "16712      0.00      0.00      0.01         0.00           NaN         NaN   \n",
       "16713      0.01      0.00      0.00         0.00           NaN         NaN   \n",
       "16714      0.00      0.00      0.01         0.00           NaN         NaN   \n",
       "\n",
       "      rating  total_sales  \n",
       "0          E        82.54  \n",
       "1        NaN        40.24  \n",
       "2          E        35.52  \n",
       "3          E        32.77  \n",
       "4        NaN        31.38  \n",
       "...      ...          ...  \n",
       "16710    NaN         0.01  \n",
       "16711    NaN         0.01  \n",
       "16712    NaN         0.01  \n",
       "16713    NaN         0.01  \n",
       "16714    NaN         0.01  \n",
       "\n",
       "[16444 rows x 12 columns]"
      ]
     },
     "execution_count": 15,
     "metadata": {},
     "output_type": "execute_result"
    }
   ],
   "source": [
    "# Creación de columna total_sales\n",
    "# Se sumna los valores de las columnas de cada región: na_sales, eu_sales, jp_sales y other_sales\n",
    "\n",
    "df['total_sales'] = df['na_sales'] + \\\n",
    "    df['eu_sales']+df['jp_sales']+df['other_sales']\n",
    "\n",
    "df"
   ]
  },
  {
   "cell_type": "markdown",
   "metadata": {},
   "source": [
    "<div class=\"alert alert-block alert-success\">\n",
    "<b>Comentario del revisor:</b> <a class=\"tocSkip\"></a>\n",
    "    \n",
    "Hola! Muy buen trabajo en la sección, ajustaste los nombres de las columnas a minúsculas con el uso de la función str.lower(), cambiaste el tipo de variable de dos de las variables de la base de datos, consideraste ajustar los valores ausentes de las variables identificadas de score y muy buen trabajo con la suma de todas las ventas. \n",
    "    \n",
    "   \n",
    "\n",
    "</div>"
   ]
  },
  {
   "cell_type": "markdown",
   "metadata": {},
   "source": [
    "<div class=\"alert alert-block alert-danger\">\n",
    "    <b>Comentario del revisor:</b> <a class=\"tocSkip\"></a>\n",
    "    \n",
    "Solamente para terminar de complementar el análisis te recomiendo verificar si las variables de score de crititicos y ususarios  se deben de hacer algún ajuste. Por ejemplo completar los valores nulos\n",
    "</div>"
   ]
  },
  {
   "cell_type": "markdown",
   "metadata": {},
   "source": [
    "<div class=\"alert alert-block alert-info\">\n",
    "<b>Respuesta del estudiante.</b> <a class=\"tocSkip\"></a>\n",
    "\n",
    "Hola Tonatiuh, sobre los valores ausentes en los score de críticos y usuarios, había realizado un conteo de ellos y había concluido que eran demasiados, por lo que dejé mi anotación en los [comentarios respectivos](#tratamiento-de-valores-duplicados-y-ausentes), que ahora están en color anaranjado. En esta revisión agregué una tabla tabla con el porcentaje de valores ausentes por cada columna y mostré los años de lanzamiento con más ausencia de críticas de usuario. Dado que son muchos valores, considero que no podría modificarlos sin alterar los futuros análisis y pos eso mejor los dejo así. ¿Es incorrrecto mi proceder respecto a esta información?\n",
    "</div>"
   ]
  },
  {
   "cell_type": "markdown",
   "metadata": {},
   "source": [
    "<div class=\"alert alert-block alert-success\">\n",
    "<b>Comentario del revisor</b> <a class=\"tocSkip\"></a>\n",
    "\n",
    "Muy buen trabajo con los ajustes!\n",
    "</div>"
   ]
  },
  {
   "cell_type": "markdown",
   "metadata": {},
   "source": [
    "## Análisis de datos"
   ]
  },
  {
   "cell_type": "markdown",
   "metadata": {},
   "source": [
    "### Videojuegos lanzados por año"
   ]
  },
  {
   "cell_type": "code",
   "execution_count": 16,
   "metadata": {},
   "outputs": [
    {
     "data": {
      "image/png": "[encoded data removed]",
      "text/plain": [
       "<Figure size 640x480 with 1 Axes>"
      ]
     },
     "metadata": {},
     "output_type": "display_data"
    }
   ],
   "source": [
    "# Conteo de juegos que se lanzaron cada año\n",
    "\n",
    "df_games = df['year_of_release'].value_counts().reset_index().sort_values(\n",
    "    'year_of_release')  # Conteo de videojuego ordenados por año de lanzamiento\n",
    "\n",
    "# Distribución de videojuegos lanzados por año\n",
    "\n",
    "sns.barplot(df_games, x='year_of_release', y='count')\n",
    "\n",
    "# Rotación de las etiquetas de los ejes en 90 grados\n",
    "\n",
    "plt.xticks(rotation=90)\n",
    "\n",
    "# Nombres de columna\n",
    "\n",
    "plt.title('Videojuegos lanzados por año')\n",
    "\n",
    "# Mostrar gráfico\n",
    "\n",
    "plt.show()"
   ]
  },
  {
   "cell_type": "markdown",
   "metadata": {},
   "source": [
    "<span style=\"color:blue\"> Comentario: \n",
    "\n",
    "Hay una aceleración importante en el lanzamiento de videojuegos en el año 2002, con un máximo en el periodo 2008 - 2009. Los años previos al 2002 no son significativos. "
   ]
  },
  {
   "cell_type": "markdown",
   "metadata": {},
   "source": [
    "### Ventas por plataforma"
   ]
  },
  {
   "cell_type": "code",
   "execution_count": 17,
   "metadata": {},
   "outputs": [
    {
     "data": {
      "text/html": [
       "<div>\n",
       "<style scoped>\n",
       "    .dataframe tbody tr th:only-of-type {\n",
       "        vertical-align: middle;\n",
       "    }\n",
       "\n",
       "    .dataframe tbody tr th {\n",
       "        vertical-align: top;\n",
       "    }\n",
       "\n",
       "    .dataframe thead th {\n",
       "        text-align: right;\n",
       "    }\n",
       "</style>\n",
       "<table border=\"1\" class=\"dataframe\">\n",
       "  <thead>\n",
       "    <tr style=\"text-align: right;\">\n",
       "      <th></th>\n",
       "      <th>platform</th>\n",
       "      <th>total_sales</th>\n",
       "    </tr>\n",
       "  </thead>\n",
       "  <tbody>\n",
       "    <tr>\n",
       "      <th>0</th>\n",
       "      <td>X360</td>\n",
       "      <td>952.99</td>\n",
       "    </tr>\n",
       "    <tr>\n",
       "      <th>1</th>\n",
       "      <td>PS3</td>\n",
       "      <td>931.34</td>\n",
       "    </tr>\n",
       "    <tr>\n",
       "      <th>2</th>\n",
       "      <td>Wii</td>\n",
       "      <td>891.18</td>\n",
       "    </tr>\n",
       "    <tr>\n",
       "      <th>3</th>\n",
       "      <td>DS</td>\n",
       "      <td>655.35</td>\n",
       "    </tr>\n",
       "    <tr>\n",
       "      <th>4</th>\n",
       "      <td>PS4</td>\n",
       "      <td>314.14</td>\n",
       "    </tr>\n",
       "    <tr>\n",
       "      <th>5</th>\n",
       "      <td>PS2</td>\n",
       "      <td>265.80</td>\n",
       "    </tr>\n",
       "    <tr>\n",
       "      <th>6</th>\n",
       "      <td>3DS</td>\n",
       "      <td>257.81</td>\n",
       "    </tr>\n",
       "    <tr>\n",
       "      <th>7</th>\n",
       "      <td>PSP</td>\n",
       "      <td>238.63</td>\n",
       "    </tr>\n",
       "    <tr>\n",
       "      <th>8</th>\n",
       "      <td>PC</td>\n",
       "      <td>163.42</td>\n",
       "    </tr>\n",
       "    <tr>\n",
       "      <th>9</th>\n",
       "      <td>XOne</td>\n",
       "      <td>159.32</td>\n",
       "    </tr>\n",
       "    <tr>\n",
       "      <th>10</th>\n",
       "      <td>WiiU</td>\n",
       "      <td>82.19</td>\n",
       "    </tr>\n",
       "    <tr>\n",
       "      <th>11</th>\n",
       "      <td>PSV</td>\n",
       "      <td>53.81</td>\n",
       "    </tr>\n",
       "    <tr>\n",
       "      <th>12</th>\n",
       "      <td>GC</td>\n",
       "      <td>11.53</td>\n",
       "    </tr>\n",
       "    <tr>\n",
       "      <th>13</th>\n",
       "      <td>XB</td>\n",
       "      <td>10.77</td>\n",
       "    </tr>\n",
       "    <tr>\n",
       "      <th>14</th>\n",
       "      <td>GBA</td>\n",
       "      <td>8.68</td>\n",
       "    </tr>\n",
       "    <tr>\n",
       "      <th>15</th>\n",
       "      <td>DC</td>\n",
       "      <td>0.06</td>\n",
       "    </tr>\n",
       "  </tbody>\n",
       "</table>\n",
       "</div>"
      ],
      "text/plain": [
       "   platform  total_sales\n",
       "0      X360       952.99\n",
       "1       PS3       931.34\n",
       "2       Wii       891.18\n",
       "3        DS       655.35\n",
       "4       PS4       314.14\n",
       "5       PS2       265.80\n",
       "6       3DS       257.81\n",
       "7       PSP       238.63\n",
       "8        PC       163.42\n",
       "9      XOne       159.32\n",
       "10     WiiU        82.19\n",
       "11      PSV        53.81\n",
       "12       GC        11.53\n",
       "13       XB        10.77\n",
       "14      GBA         8.68\n",
       "15       DC         0.06"
      ]
     },
     "execution_count": 17,
     "metadata": {},
     "output_type": "execute_result"
    }
   ],
   "source": [
    "# Agrupación por ventas totales y plataformas de los últimos 10 años.\n",
    "\n",
    "df_2006 = df.query('year_of_release >= 2006')\n",
    "\n",
    "df_group = df_2006.groupby('platform')['total_sales'].sum(\n",
    ").sort_values(ascending=False).reset_index()\n",
    "\n",
    "df_group"
   ]
  },
  {
   "cell_type": "code",
   "execution_count": 18,
   "metadata": {},
   "outputs": [
    {
     "data": {
      "image/png": "[encoded data removed]",
      "text/plain": [
       "<Figure size 640x480 with 1 Axes>"
      ]
     },
     "metadata": {},
     "output_type": "display_data"
    }
   ],
   "source": [
    "# Gráfico de ventas totales por plataforma\n",
    "\n",
    "sns.barplot(df_group, x='platform', y='total_sales')\n",
    "\n",
    "# Título\n",
    "\n",
    "plt.title('Ventas totales por plataforma 2006 - 2016')\n",
    "\n",
    "# Rotación de las etiquetas de los ejes en 70 grados\n",
    "\n",
    "plt.xticks(rotation=70)\n",
    "\n",
    "# Mostrar gráfico\n",
    "\n",
    "plt.show()"
   ]
  },
  {
   "cell_type": "markdown",
   "metadata": {},
   "source": [
    "<span style=\"color:blue\"> Comentario: \n",
    "\n",
    "Las plataformas X360, PS3, Wii y DS  destacan como las plataformas con mayores ventas globales en el periodo 2006 - 2016. Con el top 10 de las plataformas filtraré las ventas por cada año para realizar una distribución."
   ]
  },
  {
   "cell_type": "code",
   "execution_count": 19,
   "metadata": {},
   "outputs": [
    {
     "data": {
      "text/plain": [
       "0    X360\n",
       "1     PS3\n",
       "2     Wii\n",
       "3      DS\n",
       "4     PS4\n",
       "5     PS2\n",
       "6     3DS\n",
       "7     PSP\n",
       "8      PC\n",
       "9    XOne\n",
       "Name: platform, dtype: object"
      ]
     },
     "execution_count": 19,
     "metadata": {},
     "output_type": "execute_result"
    }
   ],
   "source": [
    "# Selección de las primeras 10 plataformas con mayor venta total en el periodo 2006 - 2016.\n",
    "\n",
    "filter_top_10 = df_group['platform'].iloc[:10]\n",
    "\n",
    "filter_top_10"
   ]
  },
  {
   "cell_type": "code",
   "execution_count": 20,
   "metadata": {},
   "outputs": [],
   "source": [
    "# Filtrado del dataset por las 10 plataformas con mayor venta total\n",
    "\n",
    "df_top_10 = df_2006.query('platform in @filter_top_10')"
   ]
  },
  {
   "cell_type": "code",
   "execution_count": 21,
   "metadata": {},
   "outputs": [
    {
     "data": {
      "text/html": [
       "<div>\n",
       "<style scoped>\n",
       "    .dataframe tbody tr th:only-of-type {\n",
       "        vertical-align: middle;\n",
       "    }\n",
       "\n",
       "    .dataframe tbody tr th {\n",
       "        vertical-align: top;\n",
       "    }\n",
       "\n",
       "    .dataframe thead th {\n",
       "        text-align: right;\n",
       "    }\n",
       "</style>\n",
       "<table border=\"1\" class=\"dataframe\">\n",
       "  <thead>\n",
       "    <tr style=\"text-align: right;\">\n",
       "      <th>platform</th>\n",
       "      <th>3DS</th>\n",
       "      <th>DS</th>\n",
       "      <th>PC</th>\n",
       "      <th>PS2</th>\n",
       "      <th>PS3</th>\n",
       "      <th>PS4</th>\n",
       "      <th>PSP</th>\n",
       "      <th>Wii</th>\n",
       "      <th>X360</th>\n",
       "      <th>XOne</th>\n",
       "    </tr>\n",
       "    <tr>\n",
       "      <th>year_of_release</th>\n",
       "      <th></th>\n",
       "      <th></th>\n",
       "      <th></th>\n",
       "      <th></th>\n",
       "      <th></th>\n",
       "      <th></th>\n",
       "      <th></th>\n",
       "      <th></th>\n",
       "      <th></th>\n",
       "      <th></th>\n",
       "    </tr>\n",
       "  </thead>\n",
       "  <tbody>\n",
       "    <tr>\n",
       "      <th>2006-01-01</th>\n",
       "      <td>NaN</td>\n",
       "      <td>119.81</td>\n",
       "      <td>2.85</td>\n",
       "      <td>103.42</td>\n",
       "      <td>20.96</td>\n",
       "      <td>NaN</td>\n",
       "      <td>55.32</td>\n",
       "      <td>137.15</td>\n",
       "      <td>51.62</td>\n",
       "      <td>NaN</td>\n",
       "    </tr>\n",
       "    <tr>\n",
       "      <th>2007-01-01</th>\n",
       "      <td>NaN</td>\n",
       "      <td>146.94</td>\n",
       "      <td>9.28</td>\n",
       "      <td>75.99</td>\n",
       "      <td>73.19</td>\n",
       "      <td>NaN</td>\n",
       "      <td>46.93</td>\n",
       "      <td>152.77</td>\n",
       "      <td>95.41</td>\n",
       "      <td>NaN</td>\n",
       "    </tr>\n",
       "    <tr>\n",
       "      <th>2008-01-01</th>\n",
       "      <td>NaN</td>\n",
       "      <td>145.31</td>\n",
       "      <td>12.42</td>\n",
       "      <td>53.90</td>\n",
       "      <td>118.52</td>\n",
       "      <td>NaN</td>\n",
       "      <td>34.55</td>\n",
       "      <td>171.32</td>\n",
       "      <td>135.26</td>\n",
       "      <td>NaN</td>\n",
       "    </tr>\n",
       "    <tr>\n",
       "      <th>2009-01-01</th>\n",
       "      <td>NaN</td>\n",
       "      <td>119.54</td>\n",
       "      <td>16.91</td>\n",
       "      <td>26.40</td>\n",
       "      <td>130.93</td>\n",
       "      <td>NaN</td>\n",
       "      <td>37.78</td>\n",
       "      <td>206.97</td>\n",
       "      <td>120.29</td>\n",
       "      <td>NaN</td>\n",
       "    </tr>\n",
       "    <tr>\n",
       "      <th>2010-01-01</th>\n",
       "      <td>NaN</td>\n",
       "      <td>85.02</td>\n",
       "      <td>24.28</td>\n",
       "      <td>5.64</td>\n",
       "      <td>142.17</td>\n",
       "      <td>NaN</td>\n",
       "      <td>35.04</td>\n",
       "      <td>127.95</td>\n",
       "      <td>170.03</td>\n",
       "      <td>NaN</td>\n",
       "    </tr>\n",
       "    <tr>\n",
       "      <th>2011-01-01</th>\n",
       "      <td>63.20</td>\n",
       "      <td>26.18</td>\n",
       "      <td>35.03</td>\n",
       "      <td>0.45</td>\n",
       "      <td>156.78</td>\n",
       "      <td>NaN</td>\n",
       "      <td>17.82</td>\n",
       "      <td>59.65</td>\n",
       "      <td>143.84</td>\n",
       "      <td>NaN</td>\n",
       "    </tr>\n",
       "    <tr>\n",
       "      <th>2012-01-01</th>\n",
       "      <td>51.36</td>\n",
       "      <td>11.01</td>\n",
       "      <td>23.22</td>\n",
       "      <td>NaN</td>\n",
       "      <td>107.36</td>\n",
       "      <td>NaN</td>\n",
       "      <td>7.69</td>\n",
       "      <td>21.71</td>\n",
       "      <td>99.74</td>\n",
       "      <td>NaN</td>\n",
       "    </tr>\n",
       "    <tr>\n",
       "      <th>2013-01-01</th>\n",
       "      <td>56.57</td>\n",
       "      <td>1.54</td>\n",
       "      <td>12.38</td>\n",
       "      <td>NaN</td>\n",
       "      <td>113.25</td>\n",
       "      <td>25.99</td>\n",
       "      <td>3.14</td>\n",
       "      <td>8.59</td>\n",
       "      <td>88.58</td>\n",
       "      <td>18.96</td>\n",
       "    </tr>\n",
       "    <tr>\n",
       "      <th>2014-01-01</th>\n",
       "      <td>43.76</td>\n",
       "      <td>NaN</td>\n",
       "      <td>13.28</td>\n",
       "      <td>NaN</td>\n",
       "      <td>47.76</td>\n",
       "      <td>100.00</td>\n",
       "      <td>0.24</td>\n",
       "      <td>3.75</td>\n",
       "      <td>34.74</td>\n",
       "      <td>54.07</td>\n",
       "    </tr>\n",
       "    <tr>\n",
       "      <th>2015-01-01</th>\n",
       "      <td>27.78</td>\n",
       "      <td>NaN</td>\n",
       "      <td>8.52</td>\n",
       "      <td>NaN</td>\n",
       "      <td>16.82</td>\n",
       "      <td>118.90</td>\n",
       "      <td>0.12</td>\n",
       "      <td>1.14</td>\n",
       "      <td>11.96</td>\n",
       "      <td>60.14</td>\n",
       "    </tr>\n",
       "    <tr>\n",
       "      <th>2016-01-01</th>\n",
       "      <td>15.14</td>\n",
       "      <td>NaN</td>\n",
       "      <td>5.25</td>\n",
       "      <td>NaN</td>\n",
       "      <td>3.60</td>\n",
       "      <td>69.25</td>\n",
       "      <td>NaN</td>\n",
       "      <td>0.18</td>\n",
       "      <td>1.52</td>\n",
       "      <td>26.15</td>\n",
       "    </tr>\n",
       "  </tbody>\n",
       "</table>\n",
       "</div>"
      ],
      "text/plain": [
       "platform           3DS      DS     PC     PS2     PS3     PS4    PSP     Wii  \\\n",
       "year_of_release                                                                \n",
       "2006-01-01         NaN  119.81   2.85  103.42   20.96     NaN  55.32  137.15   \n",
       "2007-01-01         NaN  146.94   9.28   75.99   73.19     NaN  46.93  152.77   \n",
       "2008-01-01         NaN  145.31  12.42   53.90  118.52     NaN  34.55  171.32   \n",
       "2009-01-01         NaN  119.54  16.91   26.40  130.93     NaN  37.78  206.97   \n",
       "2010-01-01         NaN   85.02  24.28    5.64  142.17     NaN  35.04  127.95   \n",
       "2011-01-01       63.20   26.18  35.03    0.45  156.78     NaN  17.82   59.65   \n",
       "2012-01-01       51.36   11.01  23.22     NaN  107.36     NaN   7.69   21.71   \n",
       "2013-01-01       56.57    1.54  12.38     NaN  113.25   25.99   3.14    8.59   \n",
       "2014-01-01       43.76     NaN  13.28     NaN   47.76  100.00   0.24    3.75   \n",
       "2015-01-01       27.78     NaN   8.52     NaN   16.82  118.90   0.12    1.14   \n",
       "2016-01-01       15.14     NaN   5.25     NaN    3.60   69.25    NaN    0.18   \n",
       "\n",
       "platform           X360   XOne  \n",
       "year_of_release                 \n",
       "2006-01-01        51.62    NaN  \n",
       "2007-01-01        95.41    NaN  \n",
       "2008-01-01       135.26    NaN  \n",
       "2009-01-01       120.29    NaN  \n",
       "2010-01-01       170.03    NaN  \n",
       "2011-01-01       143.84    NaN  \n",
       "2012-01-01        99.74    NaN  \n",
       "2013-01-01        88.58  18.96  \n",
       "2014-01-01        34.74  54.07  \n",
       "2015-01-01        11.96  60.14  \n",
       "2016-01-01         1.52  26.15  "
      ]
     },
     "execution_count": 21,
     "metadata": {},
     "output_type": "execute_result"
    }
   ],
   "source": [
    "# Agrupación de datos por plataforma, año y venta total.\n",
    "# Con esta información posteriormente se creará un gráfico para observar el comportamiento de las ventas a través de los años.\n",
    "\n",
    "df_pivot = df_top_10.pivot_table(index='year_of_release',\n",
    "                                 columns='platform',\n",
    "                                 values='total_sales',\n",
    "                                 aggfunc='sum')\n",
    "\n",
    "df_pivot"
   ]
  },
  {
   "cell_type": "code",
   "execution_count": 22,
   "metadata": {},
   "outputs": [
    {
     "data": {
      "text/plain": [
       "<Axes: xlabel='year_of_release'>"
      ]
     },
     "execution_count": 22,
     "metadata": {},
     "output_type": "execute_result"
    },
    {
     "data": {
      "image/png": "[encoded data removed]",
      "text/plain": [
       "<Figure size 640x480 with 1 Axes>"
      ]
     },
     "metadata": {},
     "output_type": "display_data"
    }
   ],
   "source": [
    "sns.lineplot(df_pivot)"
   ]
  },
  {
   "cell_type": "markdown",
   "metadata": {},
   "source": [
    "<div class=\"alert alert-block alert-warning\">\n",
    "<b>Comentario del revisor</b> <a class=\"tocSkip\"></a>\n",
    "    \n",
    "Gran trabajo con el desarrollo de la gráfica. Solamente te recomendaría que intentes reducir el periodo dado que el perido actual puede resultar muy extenso. Recordemos que con base en la información la popularidad la alcanzan en los primeros años. Es por ello que con un periodo largo puede no ser posible analizar de forma clara las plataformas y videojuegos actualizados y podrías estar analizando los desactualizados. Es por ello y dado que buscamos responder qué vender en 2017 te recomendareia gráficar un periodo que no supere los 5 años.     \n",
    "\n",
    "</div>"
   ]
  },
  {
   "cell_type": "markdown",
   "metadata": {},
   "source": [
    "<div class=\"alert alert-block alert-info\">\n",
    "<b>Respuesta del estudiante.</b> <a class=\"tocSkip\"></a>\n",
    "\n",
    "Hola Tonatiuh, en esta sección de arriba, mi intención fue mostrar los datos que fundamentaran mi elección para los análisis posteriores y por eso elegí un periodo amplio, ¿debía elegir desde antes el periodo más conveniente? \n",
    "\n",
    "Para esta revisión modifiqué mi elección de periodo para análizar de 2011 - 2016 (anterior) a 2016 - 2016. \n",
    "</div>"
   ]
  },
  {
   "cell_type": "markdown",
   "metadata": {},
   "source": [
    "<div class=\"alert alert-block alert-success\">\n",
    "<b>Comentario del revisor</b> <a class=\"tocSkip\"></a>\n",
    "\n",
    "Muy buen trabajo con los ajustes!\n",
    "</div>"
   ]
  },
  {
   "cell_type": "markdown",
   "metadata": {},
   "source": [
    "<span style=\"color:blue\"> Comentario: \n",
    "\n",
    "1. En los últimos años todas las plataformas están perdiendo venta. Solo PS4, XOne y 3DS sobresalen, aunque también pierden.\n",
    "\n",
    "2. Las plataformas que ya no generan ventas sobrevivieron entre 9 y 10 años. \n",
    "\n",
    "3. <span style=\"color:green\"> Para los análisis posteriores seleccionaré el periodo 2012 - 2016, que abarca, más o menos, la mitad de la vida de una plataforma. </span>"
   ]
  },
  {
   "cell_type": "markdown",
   "metadata": {},
   "source": [
    "### Análisis de datos: periodo seleccionado 2012 - 2016"
   ]
  },
  {
   "cell_type": "code",
   "execution_count": 23,
   "metadata": {},
   "outputs": [],
   "source": [
    "# Selección de datos para el periodo 2012 - 2016\n",
    "\n",
    "df_years_selected = df[df['year_of_release'] >= '2012']"
   ]
  },
  {
   "cell_type": "code",
   "execution_count": 24,
   "metadata": {},
   "outputs": [
    {
     "data": {
      "image/png": "[encoded data removed]",
      "text/plain": [
       "<Figure size 640x480 with 1 Axes>"
      ]
     },
     "metadata": {},
     "output_type": "display_data"
    }
   ],
   "source": [
    "# Identificación de plataformas más rentables en el periodo 2012 - 2016\n",
    "\n",
    "dys = df_years_selected.groupby('platform')['total_sales'].sum(\n",
    ").sort_values(ascending=False).reset_index()\n",
    "\n",
    "# Gráfico de los datos\n",
    "\n",
    "sns.barplot(dys, x='platform', y='total_sales')\n",
    "\n",
    "# Título\n",
    "plt.title('Ventas totales por plataforma entre 2012 y 2016')\n",
    "\n",
    "# Mostrar gráfico\n",
    "plt.show()"
   ]
  },
  {
   "cell_type": "markdown",
   "metadata": {},
   "source": [
    "<span style=\"color:blue\"> Comentario:\n",
    "\n",
    "En orden, las 5 plataformas con mayores ventas a nivel mundial para el periodo 2012 - 2016 son:\n",
    "1. PS4\n",
    "2. PS3\n",
    "3. X360\n",
    "4. 3DS\n",
    "5. XOne"
   ]
  },
  {
   "cell_type": "code",
   "execution_count": 25,
   "metadata": {},
   "outputs": [
    {
     "data": {
      "text/plain": [
       "<Axes: xlabel='platform', ylabel='total_sales'>"
      ]
     },
     "execution_count": 25,
     "metadata": {},
     "output_type": "execute_result"
    },
    {
     "data": {
      "image/png": "[encoded data removed]",
      "text/plain": [
       "<Figure size 640x480 with 1 Axes>"
      ]
     },
     "metadata": {},
     "output_type": "display_data"
    }
   ],
   "source": [
    "# Diagramas de caja para las ventas por plataforma \n",
    "\n",
    "sns.boxplot(data=df_years_selected, x='platform', y='total_sales')"
   ]
  },
  {
   "cell_type": "markdown",
   "metadata": {},
   "source": [
    "<div class=\"alert alert-block alert-warning\">\n",
    "<b>Comentario del revisor</b> <a class=\"tocSkip\"></a>\n",
    "    \n",
    "Te recomiendo que en una misma gráfica coloquemos todas las plataformas para que sea más sencilla la comparación    \n",
    "\n",
    "</div>"
   ]
  },
  {
   "cell_type": "markdown",
   "metadata": {},
   "source": [
    "<div class=\"alert alert-block alert-info\">\n",
    "<b>Respuesta del estudiante.</b> <a class=\"tocSkip\"></a>\n",
    "\n",
    "Realizado el ajuste en los gráficos, se ve mucho mejor.\n",
    "</div>"
   ]
  },
  {
   "cell_type": "markdown",
   "metadata": {},
   "source": [
    "<div class=\"alert alert-block alert-success\">\n",
    "<b>Comentario del revisor</b> <a class=\"tocSkip\"></a>\n",
    "\n",
    "Muy buen trabajo con los ajustes!\n",
    "</div>"
   ]
  },
  {
   "cell_type": "markdown",
   "metadata": {},
   "source": [
    "<span style=color:blue> Comentario\n",
    "\n",
    "- La mediana de ventas para las 3 principales plataformas (PS4, PS3 y X360) del periodo 2012 - 2016 es similar y esta al rededor de 0.2 millones de dólares.\n",
    "- Para las 5 plataformas con mayores ventas en el periodo (PS4, PS3, X360, 3DS, XOne), un videojuego con venta por arriba de 2 millones de dólares, aproximadamente, se puede concidir atípico.\n",
    "    - Destaca PS3 con el videojuego con mayor venta del periodo, superior a los 20 millones de dólares.\n"
   ]
  },
  {
   "cell_type": "markdown",
   "metadata": {},
   "source": [
    "#### Correlación entre reseñas y ventas "
   ]
  },
  {
   "cell_type": "code",
   "execution_count": 26,
   "metadata": {},
   "outputs": [
    {
     "data": {
      "text/html": [
       "<div>\n",
       "<style scoped>\n",
       "    .dataframe tbody tr th:only-of-type {\n",
       "        vertical-align: middle;\n",
       "    }\n",
       "\n",
       "    .dataframe tbody tr th {\n",
       "        vertical-align: top;\n",
       "    }\n",
       "\n",
       "    .dataframe thead th {\n",
       "        text-align: right;\n",
       "    }\n",
       "</style>\n",
       "<table border=\"1\" class=\"dataframe\">\n",
       "  <thead>\n",
       "    <tr style=\"text-align: right;\">\n",
       "      <th></th>\n",
       "      <th>name</th>\n",
       "      <th>platform</th>\n",
       "      <th>year_of_release</th>\n",
       "      <th>genre</th>\n",
       "      <th>na_sales</th>\n",
       "      <th>eu_sales</th>\n",
       "      <th>jp_sales</th>\n",
       "      <th>other_sales</th>\n",
       "      <th>critic_score</th>\n",
       "      <th>user_score</th>\n",
       "      <th>rating</th>\n",
       "      <th>total_sales</th>\n",
       "    </tr>\n",
       "  </thead>\n",
       "  <tbody>\n",
       "    <tr>\n",
       "      <th>907</th>\n",
       "      <td>Diablo III</td>\n",
       "      <td>PS3</td>\n",
       "      <td>2013-01-01</td>\n",
       "      <td>Role-Playing</td>\n",
       "      <td>0.72</td>\n",
       "      <td>0.75</td>\n",
       "      <td>0.15</td>\n",
       "      <td>0.29</td>\n",
       "      <td>86.0</td>\n",
       "      <td>6.4</td>\n",
       "      <td>M</td>\n",
       "      <td>1.91</td>\n",
       "    </tr>\n",
       "    <tr>\n",
       "      <th>927</th>\n",
       "      <td>Madden NFL 25</td>\n",
       "      <td>PS3</td>\n",
       "      <td>2013-01-01</td>\n",
       "      <td>Sports</td>\n",
       "      <td>1.60</td>\n",
       "      <td>0.03</td>\n",
       "      <td>0.00</td>\n",
       "      <td>0.24</td>\n",
       "      <td>76.0</td>\n",
       "      <td>4.1</td>\n",
       "      <td>E</td>\n",
       "      <td>1.87</td>\n",
       "    </tr>\n",
       "    <tr>\n",
       "      <th>943</th>\n",
       "      <td>Max Payne 3</td>\n",
       "      <td>PS3</td>\n",
       "      <td>2012-01-01</td>\n",
       "      <td>Shooter</td>\n",
       "      <td>0.59</td>\n",
       "      <td>0.89</td>\n",
       "      <td>0.06</td>\n",
       "      <td>0.30</td>\n",
       "      <td>87.0</td>\n",
       "      <td>7.8</td>\n",
       "      <td>M</td>\n",
       "      <td>1.84</td>\n",
       "    </tr>\n",
       "    <tr>\n",
       "      <th>945</th>\n",
       "      <td>LEGO Marvel Super Heroes</td>\n",
       "      <td>PS3</td>\n",
       "      <td>2013-01-01</td>\n",
       "      <td>Action</td>\n",
       "      <td>0.77</td>\n",
       "      <td>0.76</td>\n",
       "      <td>0.01</td>\n",
       "      <td>0.29</td>\n",
       "      <td>82.0</td>\n",
       "      <td>7.9</td>\n",
       "      <td>E10+</td>\n",
       "      <td>1.83</td>\n",
       "    </tr>\n",
       "    <tr>\n",
       "      <th>1018</th>\n",
       "      <td>Kingdom Hearts</td>\n",
       "      <td>PS3</td>\n",
       "      <td>2013-01-01</td>\n",
       "      <td>Role-Playing</td>\n",
       "      <td>0.90</td>\n",
       "      <td>0.35</td>\n",
       "      <td>0.25</td>\n",
       "      <td>0.24</td>\n",
       "      <td>NaN</td>\n",
       "      <td>NaN</td>\n",
       "      <td>NaN</td>\n",
       "      <td>1.74</td>\n",
       "    </tr>\n",
       "    <tr>\n",
       "      <th>...</th>\n",
       "      <td>...</td>\n",
       "      <td>...</td>\n",
       "      <td>...</td>\n",
       "      <td>...</td>\n",
       "      <td>...</td>\n",
       "      <td>...</td>\n",
       "      <td>...</td>\n",
       "      <td>...</td>\n",
       "      <td>...</td>\n",
       "      <td>...</td>\n",
       "      <td>...</td>\n",
       "      <td>...</td>\n",
       "    </tr>\n",
       "    <tr>\n",
       "      <th>16628</th>\n",
       "      <td>Akatsuki no Goei Trinity</td>\n",
       "      <td>PS3</td>\n",
       "      <td>2012-01-01</td>\n",
       "      <td>Adventure</td>\n",
       "      <td>0.00</td>\n",
       "      <td>0.00</td>\n",
       "      <td>0.01</td>\n",
       "      <td>0.00</td>\n",
       "      <td>NaN</td>\n",
       "      <td>NaN</td>\n",
       "      <td>NaN</td>\n",
       "      <td>0.01</td>\n",
       "    </tr>\n",
       "    <tr>\n",
       "      <th>16638</th>\n",
       "      <td>Tour de France 2014</td>\n",
       "      <td>PS3</td>\n",
       "      <td>2014-01-01</td>\n",
       "      <td>Sports</td>\n",
       "      <td>0.00</td>\n",
       "      <td>0.01</td>\n",
       "      <td>0.00</td>\n",
       "      <td>0.00</td>\n",
       "      <td>NaN</td>\n",
       "      <td>NaN</td>\n",
       "      <td>E</td>\n",
       "      <td>0.01</td>\n",
       "    </tr>\n",
       "    <tr>\n",
       "      <th>16674</th>\n",
       "      <td>Tsukigime Ranko's Longest Day</td>\n",
       "      <td>PS3</td>\n",
       "      <td>2014-01-01</td>\n",
       "      <td>Action</td>\n",
       "      <td>0.00</td>\n",
       "      <td>0.01</td>\n",
       "      <td>0.00</td>\n",
       "      <td>0.00</td>\n",
       "      <td>NaN</td>\n",
       "      <td>NaN</td>\n",
       "      <td>NaN</td>\n",
       "      <td>0.01</td>\n",
       "    </tr>\n",
       "    <tr>\n",
       "      <th>16691</th>\n",
       "      <td>Dynasty Warriors: Eiketsuden</td>\n",
       "      <td>PS3</td>\n",
       "      <td>2016-01-01</td>\n",
       "      <td>Action</td>\n",
       "      <td>0.00</td>\n",
       "      <td>0.00</td>\n",
       "      <td>0.01</td>\n",
       "      <td>0.00</td>\n",
       "      <td>NaN</td>\n",
       "      <td>NaN</td>\n",
       "      <td>NaN</td>\n",
       "      <td>0.01</td>\n",
       "    </tr>\n",
       "    <tr>\n",
       "      <th>16710</th>\n",
       "      <td>Samurai Warriors: Sanada Maru</td>\n",
       "      <td>PS3</td>\n",
       "      <td>2016-01-01</td>\n",
       "      <td>Action</td>\n",
       "      <td>0.00</td>\n",
       "      <td>0.00</td>\n",
       "      <td>0.01</td>\n",
       "      <td>0.00</td>\n",
       "      <td>NaN</td>\n",
       "      <td>NaN</td>\n",
       "      <td>NaN</td>\n",
       "      <td>0.01</td>\n",
       "    </tr>\n",
       "  </tbody>\n",
       "</table>\n",
       "<p>468 rows × 12 columns</p>\n",
       "</div>"
      ],
      "text/plain": [
       "                                name platform year_of_release         genre  \\\n",
       "907                       Diablo III      PS3      2013-01-01  Role-Playing   \n",
       "927                    Madden NFL 25      PS3      2013-01-01        Sports   \n",
       "943                      Max Payne 3      PS3      2012-01-01       Shooter   \n",
       "945         LEGO Marvel Super Heroes      PS3      2013-01-01        Action   \n",
       "1018                  Kingdom Hearts      PS3      2013-01-01  Role-Playing   \n",
       "...                              ...      ...             ...           ...   \n",
       "16628       Akatsuki no Goei Trinity      PS3      2012-01-01     Adventure   \n",
       "16638            Tour de France 2014      PS3      2014-01-01        Sports   \n",
       "16674  Tsukigime Ranko's Longest Day      PS3      2014-01-01        Action   \n",
       "16691   Dynasty Warriors: Eiketsuden      PS3      2016-01-01        Action   \n",
       "16710  Samurai Warriors: Sanada Maru      PS3      2016-01-01        Action   \n",
       "\n",
       "       na_sales  eu_sales  jp_sales  other_sales  critic_score  user_score  \\\n",
       "907        0.72      0.75      0.15         0.29          86.0         6.4   \n",
       "927        1.60      0.03      0.00         0.24          76.0         4.1   \n",
       "943        0.59      0.89      0.06         0.30          87.0         7.8   \n",
       "945        0.77      0.76      0.01         0.29          82.0         7.9   \n",
       "1018       0.90      0.35      0.25         0.24           NaN         NaN   \n",
       "...         ...       ...       ...          ...           ...         ...   \n",
       "16628      0.00      0.00      0.01         0.00           NaN         NaN   \n",
       "16638      0.00      0.01      0.00         0.00           NaN         NaN   \n",
       "16674      0.00      0.01      0.00         0.00           NaN         NaN   \n",
       "16691      0.00      0.00      0.01         0.00           NaN         NaN   \n",
       "16710      0.00      0.00      0.01         0.00           NaN         NaN   \n",
       "\n",
       "      rating  total_sales  \n",
       "907        M         1.91  \n",
       "927        E         1.87  \n",
       "943        M         1.84  \n",
       "945     E10+         1.83  \n",
       "1018     NaN         1.74  \n",
       "...      ...          ...  \n",
       "16628    NaN         0.01  \n",
       "16638      E         0.01  \n",
       "16674    NaN         0.01  \n",
       "16691    NaN         0.01  \n",
       "16710    NaN         0.01  \n",
       "\n",
       "[468 rows x 12 columns]"
      ]
     },
     "execution_count": 26,
     "metadata": {},
     "output_type": "execute_result"
    }
   ],
   "source": [
    "# Selecciono la plataforma PS3 y elimino las ventas atípicas obtenidas en el diagrama de caja\n",
    "\n",
    "df_ps3 = df_years_selected.query('platform == \"PS3\" & total_sales < 2')\n",
    "\n",
    "df_ps3"
   ]
  },
  {
   "cell_type": "code",
   "execution_count": 27,
   "metadata": {},
   "outputs": [
    {
     "data": {
      "text/plain": [
       "Text(0.5, 1.0, 'PS3: score de críticos vs. ventas totales')"
      ]
     },
     "execution_count": 27,
     "metadata": {},
     "output_type": "execute_result"
    },
    {
     "data": {
      "image/png": "[encoded data removed]",
      "text/plain": [
       "<Figure size 640x480 with 1 Axes>"
      ]
     },
     "metadata": {},
     "output_type": "display_data"
    }
   ],
   "source": [
    "# Correlación entre el score de la crítica y las ventas totales\n",
    "\n",
    "sns.scatterplot(data=df_ps3, x='critic_score', y='total_sales')\n",
    "\n",
    "plt.title('PS3: score de críticos vs. ventas totales')"
   ]
  },
  {
   "cell_type": "code",
   "execution_count": 28,
   "metadata": {},
   "outputs": [
    {
     "data": {
      "text/html": [
       "<div>\n",
       "<style scoped>\n",
       "    .dataframe tbody tr th:only-of-type {\n",
       "        vertical-align: middle;\n",
       "    }\n",
       "\n",
       "    .dataframe tbody tr th {\n",
       "        vertical-align: top;\n",
       "    }\n",
       "\n",
       "    .dataframe thead th {\n",
       "        text-align: right;\n",
       "    }\n",
       "</style>\n",
       "<table border=\"1\" class=\"dataframe\">\n",
       "  <thead>\n",
       "    <tr style=\"text-align: right;\">\n",
       "      <th></th>\n",
       "      <th>critic_score</th>\n",
       "      <th>total_sales</th>\n",
       "    </tr>\n",
       "  </thead>\n",
       "  <tbody>\n",
       "    <tr>\n",
       "      <th>critic_score</th>\n",
       "      <td>1.000000</td>\n",
       "      <td>0.458639</td>\n",
       "    </tr>\n",
       "    <tr>\n",
       "      <th>total_sales</th>\n",
       "      <td>0.458639</td>\n",
       "      <td>1.000000</td>\n",
       "    </tr>\n",
       "  </tbody>\n",
       "</table>\n",
       "</div>"
      ],
      "text/plain": [
       "              critic_score  total_sales\n",
       "critic_score      1.000000     0.458639\n",
       "total_sales       0.458639     1.000000"
      ]
     },
     "execution_count": 28,
     "metadata": {},
     "output_type": "execute_result"
    }
   ],
   "source": [
    "# Factor de correlación entre score de críticos y ventas totales\n",
    "\n",
    "df_ps3[['critic_score', 'total_sales']].corr()"
   ]
  },
  {
   "cell_type": "code",
   "execution_count": 29,
   "metadata": {},
   "outputs": [
    {
     "data": {
      "text/plain": [
       "Text(0.5, 1.0, 'PS3: score de usuarios vs. ventas totales')"
      ]
     },
     "execution_count": 29,
     "metadata": {},
     "output_type": "execute_result"
    },
    {
     "data": {
      "image/png": "[encoded data removed]",
      "text/plain": [
       "<Figure size 640x480 with 1 Axes>"
      ]
     },
     "metadata": {},
     "output_type": "display_data"
    }
   ],
   "source": [
    "# Correlación entre el score de usuarios y las ventas totales\n",
    "\n",
    "sns.scatterplot(data=df_ps3, x='user_score', y='total_sales')\n",
    "\n",
    "plt.title('PS3: score de usuarios vs. ventas totales')"
   ]
  },
  {
   "cell_type": "code",
   "execution_count": 30,
   "metadata": {},
   "outputs": [
    {
     "data": {
      "text/html": [
       "<div>\n",
       "<style scoped>\n",
       "    .dataframe tbody tr th:only-of-type {\n",
       "        vertical-align: middle;\n",
       "    }\n",
       "\n",
       "    .dataframe tbody tr th {\n",
       "        vertical-align: top;\n",
       "    }\n",
       "\n",
       "    .dataframe thead th {\n",
       "        text-align: right;\n",
       "    }\n",
       "</style>\n",
       "<table border=\"1\" class=\"dataframe\">\n",
       "  <thead>\n",
       "    <tr style=\"text-align: right;\">\n",
       "      <th></th>\n",
       "      <th>user_score</th>\n",
       "      <th>total_sales</th>\n",
       "    </tr>\n",
       "  </thead>\n",
       "  <tbody>\n",
       "    <tr>\n",
       "      <th>user_score</th>\n",
       "      <td>1.000000</td>\n",
       "      <td>0.085422</td>\n",
       "    </tr>\n",
       "    <tr>\n",
       "      <th>total_sales</th>\n",
       "      <td>0.085422</td>\n",
       "      <td>1.000000</td>\n",
       "    </tr>\n",
       "  </tbody>\n",
       "</table>\n",
       "</div>"
      ],
      "text/plain": [
       "             user_score  total_sales\n",
       "user_score     1.000000     0.085422\n",
       "total_sales    0.085422     1.000000"
      ]
     },
     "execution_count": 30,
     "metadata": {},
     "output_type": "execute_result"
    }
   ],
   "source": [
    "# Factor de correlación entre score de usuarios y ventas totales\n",
    "\n",
    "df_ps3[['user_score', 'total_sales']].corr()"
   ]
  },
  {
   "cell_type": "markdown",
   "metadata": {},
   "source": [
    "<div class=\"alert alert-block alert-success\">\n",
    "    <b>Comentario del revisor</b> <a class=\"tocSkip\"></a>\n",
    "    \n",
    "Muy buen trabajo con el análisis de la relación estre las scores y las ventas. \n",
    "</div>"
   ]
  },
  {
   "cell_type": "markdown",
   "metadata": {},
   "source": [
    "<span style=color:blue> Comentario:\n",
    "\n",
    "En la plataforma PS3: \n",
    "\n",
    "- Hay una correlación positiva entre la reseña de los profesionales y las ventas (0.45)\n",
    "- No hay correlación entre las reseñas de los usuarios y las ventas. "
   ]
  },
  {
   "cell_type": "code",
   "execution_count": 31,
   "metadata": {},
   "outputs": [
    {
     "data": {
      "text/plain": [
       "array(['Diablo III', 'Madden NFL 25', 'Max Payne 3',\n",
       "       'LEGO Marvel Super Heroes', 'Kingdom Hearts', 'Watch Dogs',\n",
       "       \"Dragon's Dogma\", 'BioShock Infinite', 'Call of Duty: Black Ops 3',\n",
       "       'Beyond: Two Souls', 'Destiny', 'Pro Evolution Soccer 2013',\n",
       "       'Dishonored', 'Madden NFL 15', 'Mass Effect 3',\n",
       "       'Metal Gear Rising: Revengeance', 'Medal of Honor: Warfighter',\n",
       "       \"WWE '13\", 'NBA 2K15', 'Far Cry 4', \"Assassin's Creed: Rogue\",\n",
       "       'Dark Souls II', 'Final Fantasy X / X-2 HD Remaster',\n",
       "       'Need for Speed Rivals', 'Saints Row IV', 'FIFA Street',\n",
       "       'Kingdom Hearts II', 'LEGO Batman 2: DC Super Heroes',\n",
       "       'Injustice: Gods Among Us', 'One Piece: Pirate Warriors',\n",
       "       'Resident Evil: Operation Raccoon City', 'WWE 2K14',\n",
       "       'Final Fantasy XIV: A Realm Reborn',\n",
       "       'Lightning Returns: Final Fantasy XIII', 'Skylanders Giants',\n",
       "       'LEGO The Lord of the Rings', 'Sleeping Dogs', 'F1 2012',\n",
       "       'UFC Undisputed 3', 'Skylanders SWAP Force', 'Rocksmith 2014',\n",
       "       'Disney Infinity', 'Dead Space 3', 'Sniper Elite V2',\n",
       "       'Disney Infinity 2.0: Marvel Super Heroes',\n",
       "       'PlayStation All-Stars Battle Royale', 'Pro Evolution Soccer 2014',\n",
       "       \"Tom Clancy's Ghost Recon: Future Soldier\",\n",
       "       \"Tom Clancy's Splinter Cell: Blacklist\",\n",
       "       'Naruto Shippuden: Ultimate Ninja Storm 3',\n",
       "       'The LEGO Movie Videogame', 'South Park: The Stick of Truth',\n",
       "       'MLB 12: The Show', 'SSX', 'The Jak and Daxter Collection',\n",
       "       'NCAA Football 13', 'LittleBigPlanet Karting', 'Crysis 3',\n",
       "       'LEGO Jurassic World', 'Kingdoms of Amalur: Reckoning',\n",
       "       'Tekken Tag Tournament 2', 'Darksiders II', ' Tales of Xillia 2',\n",
       "       'The Evil Within', 'NCAA Football 14', 'Street Fighter X Tekken',\n",
       "       'God of War Saga', 'Devil May Cry HD Collection',\n",
       "       'Twisted Metal (2012)', 'DmC: Devil May Cry',\n",
       "       'The Amazing Spider-Man (Console Version)', 'WWE 2K15',\n",
       "       'Madden NFL 16', 'The Walking Dead: Season One', 'SoulCalibur V',\n",
       "       '[Prototype 2]', 'Resident Evil: Revelations',\n",
       "       'Lego Batman 3: Beyond Gotham', 'MLB 13: The Show', 'NBA 2K16',\n",
       "       'FIFA 17', 'Persona 4: Arena',\n",
       "       'Naruto Shippuden: Ultimate Ninja Storm Generations',\n",
       "       'Ratchet & Clank Collection', 'Minecraft: Story Mode',\n",
       "       'Book of Spells',\n",
       "       'London 2012: The Official Video Game of the Olympic Games',\n",
       "       'Skylanders: Trap Team', 'Lollipop Chainsaw',\n",
       "       'Plants vs. Zombies: Garden Warfare',\n",
       "       'One Piece: Pirate Warriors 2', 'Ratchet & Clank: Into the Nexus',\n",
       "       'Metal Gear Solid V: The Phantom Pain', 'NHL 13',\n",
       "       'Dead or Alive 5', 'LittleBigPlanet 3',\n",
       "       '2014 FIFA World Cup Brazil', 'Borderlands: The Pre-Sequel',\n",
       "       'Aliens: Colonial Marines', 'Dead Island: Riptide',\n",
       "       'Dynasty Warriors 8', 'Dragon Age: Inquisition', 'Yakuza 5',\n",
       "       'Metal Gear Solid V: Ground Zeroes',\n",
       "       \"JoJo's Bizarre Adventure: All Star Battle\", 'Rayman Legends',\n",
       "       'Pro Evolution Soccer 2015', 'XCOM: Enemy Unknown',\n",
       "       'Doom 3 BFG Edition', 'Tales of Zestiria',\n",
       "       'Middle-Earth: Shadow of Mordor', 'LEGO Dimensions',\n",
       "       'Sly Cooper: Thieves in Time', 'Spec Ops: The Line', 'NHL 14',\n",
       "       'F1 2013', 'Tiger Woods PGA Tour 13', \"Dragon's Crown\",\n",
       "       'Tales of Symphonia', 'The Walking Dead: Survival Instinct',\n",
       "       'WWE 2K16',\n",
       "       \"Dragon Quest Heroes: The World's Tree Woe and the Blight Below\",\n",
       "       'Sonic & All-Stars Racing Transformed', 'Dragon Ball: XenoVerse',\n",
       "       'Epic Mickey 2: The Power of Two', 'LEGO The Hobbit',\n",
       "       'Silent Hill: Downpour', 'Disney Infinity 3.0', 'Deadpool',\n",
       "       'Wolfenstein: The New Order', 'Ninja Gaiden 3',\n",
       "       'Naruto Shippuden: Ultimate Ninja Storm Revolution',\n",
       "       'MLB 14: The Show', 'Payday 2', 'Mass Effect Trilogy',\n",
       "       'Just Dance 4', 'Zone of the Enders HD Collection',\n",
       "       'Metro: Last Light', 'Battlefield: Hardline', 'Terraria',\n",
       "       'F1 2014', 'Metal Gear Solid: The Legacy Collection',\n",
       "       \"Asura's Wrath\", 'Pro Evolution Soccer 2016', 'Armored Core V',\n",
       "       'Transformers: Fall of Cybertron', 'MLB 15: The Show',\n",
       "       'Mobile Suit Gundam: Extreme VS Full Boost', 'Just Dance 2014',\n",
       "       'GRID 2', 'Farming Simulator 2015', 'Tiger Woods PGA Tour 14',\n",
       "       'Destiny: The Taken King', 'Skylanders: SuperChargers', 'NHL 15',\n",
       "       'Thief (2014)', 'Earth Defense Force 2025', 'Defiance',\n",
       "       'James Bond 007: Legends', 'Sniper: Ghost Warrior 2',\n",
       "       'Alien: Isolation', 'Binary Domain', 'Remember Me',\n",
       "       'Silent Hill HD Collection', 'The Darkness II', 'F1 Race Stars',\n",
       "       'Drakengard 3', 'J Stars Victory Vs.',\n",
       "       'Dragon Ball Z: Battle of Z', 'BlazBlue: Chrono Phantasma',\n",
       "       'Dai-2-Ji Super Robot Taisen OG',\n",
       "       \"Fist of the North Star: Ken's Rage 2\", 'Sorcery',\n",
       "       'Resident Evil: Revelations 2', 'Starhawk',\n",
       "       'Angry Birds Star Wars', 'Hot Shots Golf: World Invitational',\n",
       "       'Hatsune Miku: Project Diva f', 'Sniper Elite 3',\n",
       "       'One Piece: Unlimited World Red',\n",
       "       \"Army of Two: The Devil's Cartel\", 'Guitar Hero Live',\n",
       "       'Sengoku Basara 4', \"LEGO Marvel's Avengers\",\n",
       "       'Family Guy: Back to the Multiverse', 'Gundam Breaker',\n",
       "       'Jikkyou Powerful Pro Yakyuu 2013',\n",
       "       'The Amazing Spider-Man 2 (2014)', 'Yakuza: Ishin',\n",
       "       'Samurai Warriors 4', 'Atelier Ayesha: The Alchemist of Dusk',\n",
       "       'Tokyo Jungle', 'Puppeteer', 'One Piece: Pirate Warriors 3',\n",
       "       'Just Dance 2015', 'Hatsune Miku: Project Diva F 2nd',\n",
       "       'The Bureau: XCOM Declassified', 'Yakuza Zero: The Place of Oath',\n",
       "       'Teenage Mutant Ninja Turtles: Danger of the Ooze',\n",
       "       'Star Trek: The Game', 'The Testament of Sherlock Holmes',\n",
       "       'Game of Thrones', 'Birds of Steel',\n",
       "       'Dynasty Warriors: Gundam Reborn', 'Grand Slam Tennis 2',\n",
       "       'Ratchet & Clank: Full Frontal Assault',\n",
       "       '3rd Super Robot Wars Z Jigoku Hen', 'Killer is Dead',\n",
       "       'Risen 2: Dark Waters',\n",
       "       'Atelier Escha & Logy: Alchemists of the Dusk Sky', 'Journey',\n",
       "       'Disgaea D2: A Brighter Darkness', 'Hitman: HD Trilogy',\n",
       "       'Jikkyou Powerful Pro Yakyuu 2012', 'Lost Planet 3',\n",
       "       'Anarchy Reigns', 'The Witch and the Hundred Knight',\n",
       "       'The Legend of Heroes: Trails of Cold Steel',\n",
       "       'Pro Yaky? Spirits 2013', 'Castlevania: Lords of Shadow 2',\n",
       "       'Major League Baseball 2K12', 'MLB 16: The Show',\n",
       "       'Just Dance 2016', 'Kamen Rider: Battride War',\n",
       "       'The Walking Dead: Season Two', 'Nobunaga no Yabou: Souzou',\n",
       "       'Pro Yaky? Spirits 2012', 'Fairy Fencer F',\n",
       "       'Guilty Gear Xrd: Sign',\n",
       "       'Atelier Shallie: Alchemists of the Dusk Sea', 'GRID Autosport',\n",
       "       'DiRT Showdown', 'Time and Eternity', 'Ridge Racer Unbounded',\n",
       "       'Jikkyou Powerful Pro Yakyuu 2014',\n",
       "       'Dengeki Bunko Fighting Climax', 'Angry Birds Trilogy',\n",
       "       'Hyperdimension Neptunia Victory',\n",
       "       'Lego Star Wars: The Force Awakens',\n",
       "       'Ar Nosurge: Ode to an Unborn Star',\n",
       "       'Dynasty Warriors 8: Xtreme Legends', 'Mugen Souls',\n",
       "       'Major League Baseball 2K13',\n",
       "       'Tears to Tiara II: Heir of the Overlord',\n",
       "       '3rd Super Robot Wars Z: Tengoku-Hen', 'Pro Baseball Spirits 2015',\n",
       "       'The Legend of Heroes: Trails of Cold Steel II', 'Syndicate',\n",
       "       'Gundam Breaker 2', 'Farming Simulator 2013', 'Okami', 'WWE 2K17',\n",
       "       'Pro Yaky? Spirits 2014', 'Dynasty Warriors 7: Empires',\n",
       "       'Murdered: Soul Suspect', 'Shining Resonance',\n",
       "       'Persona 4: Arena Ultimax',\n",
       "       \"Dragon Quest Heroes II: Twin Kings and the Prophecy's End\",\n",
       "       'The IdolM@ster: One for All', 'Pro Evolution Soccer 2017',\n",
       "       'Under Night In-Birth',\n",
       "       'Soccer Tsuku: Pro Soccer Club o Tsukurou!', 'NBA 2K17',\n",
       "       'NeverDead', 'Mobile Suit Gundam Side Story: Missing Link',\n",
       "       'Dragon Quest Builders: Revive Alefgard', 'Yakuza Kiwami',\n",
       "       'Tales of Berseria', 'Jikkyou Powerful Pro Baseball 2016',\n",
       "       'Armored Core: Verdict Day', 'Madden NFL 17', 'Yakuza',\n",
       "       'Deception IV: Blood Ties', 'Fuse (Insomniac)', 'Persona 5',\n",
       "       'Samurai Warriors 4-II', 'Transformer: Rise of the Dark Spark',\n",
       "       'MotoGP 14 ', \"Akiba's Trip: Undead & Undressed\", \"NASCAR '14\",\n",
       "       'Robotics;Notes', 'Aquapazza: Aquaplus Dream Match',\n",
       "       'Skylanders Imaginators', 'Kamen Rider: Battride War II',\n",
       "       'Sacred 3', 'Macross 30: Ginga o Tsunagu Utagoe',\n",
       "       'Kidou Senshi Gundam UC', 'How to Train Your Dragon 2',\n",
       "       'Sword Art Online: Lost Song', 'Blades of Time',\n",
       "       'Pac-Man and the Ghostly Adventures 2', 'Young Justice: Legacy',\n",
       "       'Resident Evil Chronicles HD', 'Singstar: Ultimate Party',\n",
       "       'Digimon All-Star Rumble', 'Yaiba: Ninja Gaiden Z', 'The Smurfs 2',\n",
       "       'The Wolf Among Us', 'Rugby 15',\n",
       "       'Romance of the Three Kingdoms XII',\n",
       "       'Adventure Time: Finn & Jake Investigations',\n",
       "       'Sengoku Basara 4: Sumeragi',\n",
       "       'WRC 5: FIA World Rally Championship',\n",
       "       'Dynasty Warriors 8: Empires', 'NASCAR The Game: Inside Line',\n",
       "       'Transformers: Devastation', 'Risen 3: Titan Lords',\n",
       "       'PAC-MAN and the Ghostly Adventures', 'AKB1/149: Love Election',\n",
       "       'UEFA Euro 2016', 'Lost Dimension', 'Escape Dead Island',\n",
       "       'Winning Post 7 2012',\n",
       "       'Super Robot Taisen OG Saga: Masou Kishin III - Pride of Justice',\n",
       "       'Saint Seiya: Brave Soldiers', 'Mugen Souls Z',\n",
       "       'Guilty Gear Xrd -Revelator-', 'Inversion',\n",
       "       'Brothers in Arms: Furious 4',\n",
       "       'Sherlock Holmes: Crimes & Punishments', 'The Guided Fate Paradox',\n",
       "       'Steins;Gate: Senkei Kousoku no Phonogram',\n",
       "       'Super Robot Wars OG: The Moon Dwellers',\n",
       "       'Odin Sphere: Leifthrasir', 'Godzilla (2014)', 'Steins;Gate',\n",
       "       'Jissen Pachislot Secrets! Fist of the North Star F - Seikimatsu Kyuuseishu Densetsu',\n",
       "       'Attack on Titan (KOEI)',\n",
       "       'Super Robot Wars OG Saga Masou Kishin F: Coffin of the End',\n",
       "       \"Tony Hawk's Pro Skater 5\", 'BlazBlue Central Fiction',\n",
       "       'Samurai Warriors 4: Empires', 'Rugby World Cup 2015',\n",
       "       'Tokyo Twilight Ghost Hunters', 'Enemy Front',\n",
       "       'Batman: A Telltale Game Series', 'MotoGP 15', 'Winning Post 8 ',\n",
       "       'Choujikuu Yousai Macross: Do You Remember Love',\n",
       "       'Teenage Mutant Ninja Turtles: Mutants in Manhattan',\n",
       "       'Winning Post 7 2013', 'Ride', 'Natural Doctrine',\n",
       "       'Utawarerumono: Itsuwari no Kamen', 'DuckTales: Remastered',\n",
       "       'E.X. Troopers', 'Rain (2013)',\n",
       "       \"Adventure Time: Explore the Dungeon Because I Don't Know!\",\n",
       "       'Arslan: The Warriors of Legend', 'Yoru no Nai Kuni',\n",
       "       'Just Dance 2017', 'Kamen Rider: Battride War Genesis',\n",
       "       'Puyo Puyo Tetris', 'White Album 2: Shiawase no Mukougawa',\n",
       "       'Mechanic Escape',\n",
       "       'Ore no Imouto ga Konna ni Kawaii Wake ga Nai Happy EnD',\n",
       "       \"Saint Seiya: Soldiers' Soul\",\n",
       "       'Star Ocean 5: Integrity and Faithlessness', 'NHL Legacy',\n",
       "       'Super Robot Taisen OG Infinite Battle', 'Ride to Hell',\n",
       "       'Romance of the Three Kingdoms 13', 'Test Drive: Ferrari Legends',\n",
       "       'Monster High: New Ghoul in School',\n",
       "       'Deadliest Warrior: Ancient Combat',\n",
       "       'The Legend of Heroes: Trails in the Sky First Chapter',\n",
       "       'Date A Live: Rine Utopia', 'Painkiller: Hell & Damnation',\n",
       "       'BlazBlue: Chrono Phantasma Extend', 'Game of Thrones (Telltale)',\n",
       "       'Shin Hayarigami', 'Ragnarok Odyssey', 'Legasista',\n",
       "       \"Nobunaga's Ambition: Sphere of Influence - Sengoku Risshiden\",\n",
       "       'XBLAZE Code: Embryo', 'Onechanbara Z Kagura',\n",
       "       'The Idolmaster: Gravure For You! Vol. 4',\n",
       "       'Gekiatsu!! Pachi Game Tamashi Max: Evangelion 7 x Seimei no Kodou',\n",
       "       'K-On! After School Live!! HD Ver.', 'Ukiyo no Shishi',\n",
       "       \"Dragon's Dogma Online\", 'Super Hero Generation',\n",
       "       'Atelier Sophie: The Alchemist of the Mysterious Book',\n",
       "       '.hack: Sekai no Mukou ni + Versus',\n",
       "       'Accel World: Ginyoku no Kakusei',\n",
       "       \"JoJo's Bizarre Adventure: Eyes of Heaven\",\n",
       "       \"Cabela's Big Game Hunter: Pro Hunts\",\n",
       "       'Hajime no Ippo: The Fighting! (2014)', 'Top Gun: Hard Lock',\n",
       "       'Super Heroine Chronicle', 'Darkstalkers Resurrection',\n",
       "       'The Voice', 'The Idolmaster: Gravure For You! Vol. 5',\n",
       "       'Muv-Luv Alternative: Total Eclipse', 'Bladestorm: Nightmare',\n",
       "       'Handball 16', 'The IdolM@ster: Gravure For You! Vol. 6',\n",
       "       'Samurai Warriors 2', 'MX vs. ATV Supercross',\n",
       "       'Sengoku Basara: Sanada Yukimura-Den',\n",
       "       'Eureka Seven AO: Jungfrau no Hanabanatachi',\n",
       "       'Infinite Stratos 2: Ignition Hearts', 'Steins;Gate 0',\n",
       "       'Rugby Challenge 3', 'Touch Shot! Love Application',\n",
       "       'TV Anime Idolm@ster: Cinderella Girls G4U! Pack Vol.9',\n",
       "       'Daito Giken Koushiki Pachi-Slot Simulator Hihouden: Taiyou o Motomeru Monotachi',\n",
       "       'TV Anime Idolm@ster: Cinderella Girls G4U! Pack Vol.6',\n",
       "       'The Idolmaster: Gravure For You! Vol.7',\n",
       "       'TV Anime Idolm@ster: Cinderella Girls G4U! Pack Vol.1',\n",
       "       'Final Fantasy XIV: Heavensward',\n",
       "       'Aegis of Earth: Protonovus Assault',\n",
       "       'Blade Arcus from Shining EX', 'Toukiden 2',\n",
       "       'Utawarerumono: Futari no Hakuoro',\n",
       "       'Captain Morgane and the Golden Turtle', 'Winning Post 8 2015',\n",
       "       'Zillions of Enemy X: Zetsukai no Crusade',\n",
       "       'Call of Duty: Modern Warfare Trilogy', 'Motto! SoniComi',\n",
       "       'The Idolmaster: Gravure For You! Vol.9',\n",
       "       'Date A Live: Arusu Install',\n",
       "       'Shinken de Watashi ni Koi Shinasai! R',\n",
       "       'Dungeons & Dragons: Shadow over Mystara',\n",
       "       'The Awakened Fate Ultimatum', 'Xblaze: Lost Memories', 'Gal Gun',\n",
       "       'Rinne no Lagrange: Kamogawa Days',\n",
       "       'The Idolmaster: Gravure For You! Vol.8',\n",
       "       'TV Anime Idolm@ster: Cinderella Girls G4U! Pack Vol.7',\n",
       "       'Fast & Furious: Showdown',\n",
       "       'The Legend of Heroes: Trails in the Sky Second Chapter',\n",
       "       'CV Casting Voice', 'Battle Princess of Arcadias',\n",
       "       'Steins;Gate: Hiyoku Renri no Darling',\n",
       "       'TV Anime Idolm@ster: Cinderella Girls G4U! Pack Vol.5',\n",
       "       'Kung Fu Panda: Showdown of Legendary Legends',\n",
       "       'TV Anime Idolm@ster: Cinderella Girls G4U! Pack Vol.8',\n",
       "       'Natsuiro High School: Seishun Hakusho',\n",
       "       'Downtown Nekketsu Koushinkyoku: Soreyuke Daiundoukai All-Star Special',\n",
       "       'Invizimals: The Lost Kingdom',\n",
       "       'TV Anime Idolm@ster: Cinderella Girls G4U! Pack Vol.2',\n",
       "       'TV Anime Idolm@ster: Cinderella Girls G4U! Pack Vol.3',\n",
       "       'TV Anime Idolm@ster: Cinderella Girls G4U! Pack Vol.4',\n",
       "       'Turbo: Super Stunt Squad', 'Rugby League Live 3',\n",
       "       'Dream C Club: GoGo ', 'Accel World: Kasoku no Chouten',\n",
       "       'Dream C Club', 'Nobunaga no Yabou Online: Houou no Shou',\n",
       "       'Don Bradman Cricket 14', 'Pro Angler Moves',\n",
       "       'Higurashi no Naku Koro ni Iki',\n",
       "       'The Legend of Heroes: Trails in the Sky Third Chapter',\n",
       "       'Madden NFL 13', 'NHL 16', 'Strider (2014)',\n",
       "       'Nitroplus Blasterz: Heroines Infinite Duel', 'Chaos;Child',\n",
       "       'Sakigake!! Otokojuku - Nihon yo, Kore ga Otoko Dearu!',\n",
       "       'Shin Koihime Musou: Otome Taisen * Sangokushi Engi',\n",
       "       'Naruto Shippuden: Ultimate Ninja Storm Collection',\n",
       "       'Muv-Luv Alternative', 'Akatsuki no Goei Trinity',\n",
       "       'Tour de France 2014', \"Tsukigime Ranko's Longest Day\",\n",
       "       'Dynasty Warriors: Eiketsuden', 'Samurai Warriors: Sanada Maru'],\n",
       "      dtype=object)"
      ]
     },
     "execution_count": 31,
     "metadata": {},
     "output_type": "execute_result"
    }
   ],
   "source": [
    "# Selecciono los títulos listados en PS3\n",
    "\n",
    "games_ps3 = df_ps3['name'].unique()\n",
    "\n",
    "games_ps3"
   ]
  },
  {
   "cell_type": "code",
   "execution_count": 32,
   "metadata": {},
   "outputs": [],
   "source": [
    "# Uso la lista anterior para filtrar en X360  y PS4, eliminando las ventas atípicas de cada plataforma\n",
    "\n",
    "games_x360 = df_years_selected.query('name in @games_ps3 & platform == \"X360\" & total_sales < 2.5')\n",
    "\n",
    "# Filtro ahora en PS4\n",
    "\n",
    "games_ps4 = df_years_selected.query('name in @games_ps3 & platform == \"PS4\" & total_sales < 2.5')"
   ]
  },
  {
   "cell_type": "code",
   "execution_count": 33,
   "metadata": {},
   "outputs": [
    {
     "data": {
      "text/plain": [
       "Text(0.5, 1.0, 'X360: score de profesionales vs ventas totales')"
      ]
     },
     "execution_count": 33,
     "metadata": {},
     "output_type": "execute_result"
    },
    {
     "data": {
      "image/png": "[encoded data removed]",
      "text/plain": [
       "<Figure size 640x480 with 1 Axes>"
      ]
     },
     "metadata": {},
     "output_type": "display_data"
    }
   ],
   "source": [
    "# Correlación entre score de críticos y ventas totales en X360\n",
    "\n",
    "# Gráfico score de profesionales vs ventas totales\n",
    "sns.scatterplot(games_x360, x='critic_score', y='total_sales')\n",
    "\n",
    "plt.title('X360: score de profesionales vs ventas totales')"
   ]
  },
  {
   "cell_type": "code",
   "execution_count": 34,
   "metadata": {},
   "outputs": [
    {
     "data": {
      "text/html": [
       "<div>\n",
       "<style scoped>\n",
       "    .dataframe tbody tr th:only-of-type {\n",
       "        vertical-align: middle;\n",
       "    }\n",
       "\n",
       "    .dataframe tbody tr th {\n",
       "        vertical-align: top;\n",
       "    }\n",
       "\n",
       "    .dataframe thead th {\n",
       "        text-align: right;\n",
       "    }\n",
       "</style>\n",
       "<table border=\"1\" class=\"dataframe\">\n",
       "  <thead>\n",
       "    <tr style=\"text-align: right;\">\n",
       "      <th></th>\n",
       "      <th>critic_score</th>\n",
       "      <th>total_sales</th>\n",
       "    </tr>\n",
       "  </thead>\n",
       "  <tbody>\n",
       "    <tr>\n",
       "      <th>critic_score</th>\n",
       "      <td>1.000000</td>\n",
       "      <td>0.465648</td>\n",
       "    </tr>\n",
       "    <tr>\n",
       "      <th>total_sales</th>\n",
       "      <td>0.465648</td>\n",
       "      <td>1.000000</td>\n",
       "    </tr>\n",
       "  </tbody>\n",
       "</table>\n",
       "</div>"
      ],
      "text/plain": [
       "              critic_score  total_sales\n",
       "critic_score      1.000000     0.465648\n",
       "total_sales       0.465648     1.000000"
      ]
     },
     "execution_count": 34,
     "metadata": {},
     "output_type": "execute_result"
    }
   ],
   "source": [
    "# Factor de correlación entre score de profesionales y ventas totales en X360\n",
    "\n",
    "games_x360[['critic_score', 'total_sales']].corr()"
   ]
  },
  {
   "cell_type": "code",
   "execution_count": 35,
   "metadata": {},
   "outputs": [
    {
     "data": {
      "text/plain": [
       "Text(0.5, 1.0, 'X360: score de usuarios vs ventas totales')"
      ]
     },
     "execution_count": 35,
     "metadata": {},
     "output_type": "execute_result"
    },
    {
     "data": {
      "image/png": "[encoded data removed]",
      "text/plain": [
       "<Figure size 640x480 with 1 Axes>"
      ]
     },
     "metadata": {},
     "output_type": "display_data"
    }
   ],
   "source": [
    "# Correlación de score de usuarios vs ventas totales en X360\n",
    "\n",
    "# Gráfico de dispersión\n",
    "sns.scatterplot(games_x360, x='user_score', y='total_sales')\n",
    "\n",
    "plt.title('X360: score de usuarios vs ventas totales')"
   ]
  },
  {
   "cell_type": "code",
   "execution_count": 36,
   "metadata": {},
   "outputs": [
    {
     "data": {
      "text/html": [
       "<div>\n",
       "<style scoped>\n",
       "    .dataframe tbody tr th:only-of-type {\n",
       "        vertical-align: middle;\n",
       "    }\n",
       "\n",
       "    .dataframe tbody tr th {\n",
       "        vertical-align: top;\n",
       "    }\n",
       "\n",
       "    .dataframe thead th {\n",
       "        text-align: right;\n",
       "    }\n",
       "</style>\n",
       "<table border=\"1\" class=\"dataframe\">\n",
       "  <thead>\n",
       "    <tr style=\"text-align: right;\">\n",
       "      <th></th>\n",
       "      <th>user_score</th>\n",
       "      <th>total_sales</th>\n",
       "    </tr>\n",
       "  </thead>\n",
       "  <tbody>\n",
       "    <tr>\n",
       "      <th>user_score</th>\n",
       "      <td>1.000000</td>\n",
       "      <td>0.152575</td>\n",
       "    </tr>\n",
       "    <tr>\n",
       "      <th>total_sales</th>\n",
       "      <td>0.152575</td>\n",
       "      <td>1.000000</td>\n",
       "    </tr>\n",
       "  </tbody>\n",
       "</table>\n",
       "</div>"
      ],
      "text/plain": [
       "             user_score  total_sales\n",
       "user_score     1.000000     0.152575\n",
       "total_sales    0.152575     1.000000"
      ]
     },
     "execution_count": 36,
     "metadata": {},
     "output_type": "execute_result"
    }
   ],
   "source": [
    "# Factor de correlación entre score de usuarios y ventas totales en X360\n",
    "\n",
    "games_x360[['user_score', 'total_sales']].corr()"
   ]
  },
  {
   "cell_type": "code",
   "execution_count": 37,
   "metadata": {},
   "outputs": [
    {
     "data": {
      "text/plain": [
       "Text(0.5, 1.0, 'PS4: score de profesionales vs ventas totales')"
      ]
     },
     "execution_count": 37,
     "metadata": {},
     "output_type": "execute_result"
    },
    {
     "data": {
      "image/png": "[encoded data removed]",
      "text/plain": [
       "<Figure size 640x480 with 1 Axes>"
      ]
     },
     "metadata": {},
     "output_type": "display_data"
    }
   ],
   "source": [
    "# Correlación entre score de profesionales y ventas totales en PS4\n",
    "\n",
    "# Gráfico de dispersión\n",
    "\n",
    "sns.scatterplot(games_ps4, x='critic_score', y='total_sales')\n",
    "\n",
    "plt.title('PS4: score de profesionales vs ventas totales')"
   ]
  },
  {
   "cell_type": "code",
   "execution_count": 38,
   "metadata": {},
   "outputs": [
    {
     "data": {
      "text/html": [
       "<div>\n",
       "<style scoped>\n",
       "    .dataframe tbody tr th:only-of-type {\n",
       "        vertical-align: middle;\n",
       "    }\n",
       "\n",
       "    .dataframe tbody tr th {\n",
       "        vertical-align: top;\n",
       "    }\n",
       "\n",
       "    .dataframe thead th {\n",
       "        text-align: right;\n",
       "    }\n",
       "</style>\n",
       "<table border=\"1\" class=\"dataframe\">\n",
       "  <thead>\n",
       "    <tr style=\"text-align: right;\">\n",
       "      <th></th>\n",
       "      <th>critic_score</th>\n",
       "      <th>total_sales</th>\n",
       "    </tr>\n",
       "  </thead>\n",
       "  <tbody>\n",
       "    <tr>\n",
       "      <th>critic_score</th>\n",
       "      <td>1.000000</td>\n",
       "      <td>0.412466</td>\n",
       "    </tr>\n",
       "    <tr>\n",
       "      <th>total_sales</th>\n",
       "      <td>0.412466</td>\n",
       "      <td>1.000000</td>\n",
       "    </tr>\n",
       "  </tbody>\n",
       "</table>\n",
       "</div>"
      ],
      "text/plain": [
       "              critic_score  total_sales\n",
       "critic_score      1.000000     0.412466\n",
       "total_sales       0.412466     1.000000"
      ]
     },
     "execution_count": 38,
     "metadata": {},
     "output_type": "execute_result"
    }
   ],
   "source": [
    "# Factor de correlación entre score de profesionales y ventas totales en PS4\n",
    "\n",
    "games_ps4[['critic_score', 'total_sales']].corr()"
   ]
  },
  {
   "cell_type": "code",
   "execution_count": 39,
   "metadata": {},
   "outputs": [
    {
     "data": {
      "text/plain": [
       "Text(0.5, 1.0, 'PS4: score de usuarios vs ventas totales')"
      ]
     },
     "execution_count": 39,
     "metadata": {},
     "output_type": "execute_result"
    },
    {
     "data": {
      "image/png": "[encoded data removed]",
      "text/plain": [
       "<Figure size 640x480 with 1 Axes>"
      ]
     },
     "metadata": {},
     "output_type": "display_data"
    }
   ],
   "source": [
    "# Correlación entre score de usuarios y ventas totales en PS4\n",
    "\n",
    "# Gráfico de dispersión\n",
    "\n",
    "sns.scatterplot(games_ps4, x='user_score', y='total_sales')\n",
    "\n",
    "plt.title('PS4: score de usuarios vs ventas totales')"
   ]
  },
  {
   "cell_type": "code",
   "execution_count": 40,
   "metadata": {},
   "outputs": [
    {
     "data": {
      "text/html": [
       "<div>\n",
       "<style scoped>\n",
       "    .dataframe tbody tr th:only-of-type {\n",
       "        vertical-align: middle;\n",
       "    }\n",
       "\n",
       "    .dataframe tbody tr th {\n",
       "        vertical-align: top;\n",
       "    }\n",
       "\n",
       "    .dataframe thead th {\n",
       "        text-align: right;\n",
       "    }\n",
       "</style>\n",
       "<table border=\"1\" class=\"dataframe\">\n",
       "  <thead>\n",
       "    <tr style=\"text-align: right;\">\n",
       "      <th></th>\n",
       "      <th>user_score</th>\n",
       "      <th>total_sales</th>\n",
       "    </tr>\n",
       "  </thead>\n",
       "  <tbody>\n",
       "    <tr>\n",
       "      <th>user_score</th>\n",
       "      <td>1.000000</td>\n",
       "      <td>0.090059</td>\n",
       "    </tr>\n",
       "    <tr>\n",
       "      <th>total_sales</th>\n",
       "      <td>0.090059</td>\n",
       "      <td>1.000000</td>\n",
       "    </tr>\n",
       "  </tbody>\n",
       "</table>\n",
       "</div>"
      ],
      "text/plain": [
       "             user_score  total_sales\n",
       "user_score     1.000000     0.090059\n",
       "total_sales    0.090059     1.000000"
      ]
     },
     "execution_count": 40,
     "metadata": {},
     "output_type": "execute_result"
    }
   ],
   "source": [
    "# Factor de correlación entre score de usuarios y ventas totales en PS4\n",
    "\n",
    "games_ps4[['user_score', 'total_sales']].corr()"
   ]
  },
  {
   "cell_type": "markdown",
   "metadata": {},
   "source": [
    "<span style=color:blue> Comentario:\n",
    "\n",
    "Para las plataforma X360 y PS4: \n",
    "\n",
    "- La correlación entre las críticas de los profesionales y las ventas totales son similares y consistentes entre las tres plataformas (PS3, PS4 y X360),con un valor positivo de 0.4 \n",
    "- Igual que en PS3, no hay correlación entre las reseñas de los usuarios y las ventas."
   ]
  },
  {
   "cell_type": "markdown",
   "metadata": {},
   "source": [
    "#### Ventas por género de videojuego"
   ]
  },
  {
   "cell_type": "code",
   "execution_count": 41,
   "metadata": {},
   "outputs": [
    {
     "data": {
      "image/png": "[encoded data removed]",
      "text/plain": [
       "<Figure size 640x480 with 1 Axes>"
      ]
     },
     "metadata": {},
     "output_type": "display_data"
    }
   ],
   "source": [
    "# Agrupo por genero y calculo las ventas globales para todas los juegos en el periodo 2012 - 2016\n",
    "\n",
    "dys_genre = df_years_selected.groupby(\n",
    "    'genre')['total_sales'].sum().reset_index()\n",
    "\n",
    "# Ordenamiento descendente de las ventas totales\n",
    "\n",
    "dys_genre = dys_genre.sort_values(by='total_sales', ascending=False)\n",
    "\n",
    "# Gráfico de barras\n",
    "\n",
    "sns.barplot(dys_genre, x='genre', y='total_sales')\n",
    "\n",
    "# Título del gráfico\n",
    "\n",
    "plt.title('Ventas totales por género')\n",
    "\n",
    "# Rotación de las etiquetas de los ejes en 70 grados\n",
    "\n",
    "plt.xticks(rotation=70)\n",
    "\n",
    "# Mostrar gráfico\n",
    "\n",
    "plt.show()"
   ]
  },
  {
   "cell_type": "markdown",
   "metadata": {},
   "source": [
    "<span style=color:blue> Comentario:\n",
    "\n",
    "Los 5 géneros más rentables a nivel mundial para el periodo 2011 - 2016:\n",
    "1. Action\n",
    "2. Shooter\n",
    "3. Role_playing\n",
    "4. Sports\n",
    "5. Misc"
   ]
  },
  {
   "cell_type": "markdown",
   "metadata": {},
   "source": [
    "#### Análisis por región"
   ]
  },
  {
   "cell_type": "markdown",
   "metadata": {},
   "source": [
    "##### Región NA"
   ]
  },
  {
   "cell_type": "code",
   "execution_count": 42,
   "metadata": {},
   "outputs": [
    {
     "data": {
      "text/html": [
       "<div>\n",
       "<style scoped>\n",
       "    .dataframe tbody tr th:only-of-type {\n",
       "        vertical-align: middle;\n",
       "    }\n",
       "\n",
       "    .dataframe tbody tr th {\n",
       "        vertical-align: top;\n",
       "    }\n",
       "\n",
       "    .dataframe thead th {\n",
       "        text-align: right;\n",
       "    }\n",
       "</style>\n",
       "<table border=\"1\" class=\"dataframe\">\n",
       "  <thead>\n",
       "    <tr style=\"text-align: right;\">\n",
       "      <th></th>\n",
       "      <th>name</th>\n",
       "      <th>platform</th>\n",
       "      <th>year_of_release</th>\n",
       "      <th>genre</th>\n",
       "      <th>na_sales</th>\n",
       "      <th>eu_sales</th>\n",
       "      <th>jp_sales</th>\n",
       "      <th>other_sales</th>\n",
       "      <th>critic_score</th>\n",
       "      <th>user_score</th>\n",
       "      <th>rating</th>\n",
       "      <th>total_sales</th>\n",
       "    </tr>\n",
       "  </thead>\n",
       "  <tbody>\n",
       "    <tr>\n",
       "      <th>16</th>\n",
       "      <td>Grand Theft Auto V</td>\n",
       "      <td>PS3</td>\n",
       "      <td>2013-01-01</td>\n",
       "      <td>Action</td>\n",
       "      <td>7.02</td>\n",
       "      <td>9.09</td>\n",
       "      <td>0.98</td>\n",
       "      <td>3.96</td>\n",
       "      <td>97.0</td>\n",
       "      <td>8.2</td>\n",
       "      <td>M</td>\n",
       "      <td>21.05</td>\n",
       "    </tr>\n",
       "    <tr>\n",
       "      <th>23</th>\n",
       "      <td>Grand Theft Auto V</td>\n",
       "      <td>X360</td>\n",
       "      <td>2013-01-01</td>\n",
       "      <td>Action</td>\n",
       "      <td>9.66</td>\n",
       "      <td>5.14</td>\n",
       "      <td>0.06</td>\n",
       "      <td>1.41</td>\n",
       "      <td>97.0</td>\n",
       "      <td>8.1</td>\n",
       "      <td>M</td>\n",
       "      <td>16.27</td>\n",
       "    </tr>\n",
       "    <tr>\n",
       "      <th>31</th>\n",
       "      <td>Call of Duty: Black Ops 3</td>\n",
       "      <td>PS4</td>\n",
       "      <td>2015-01-01</td>\n",
       "      <td>Shooter</td>\n",
       "      <td>6.03</td>\n",
       "      <td>5.86</td>\n",
       "      <td>0.36</td>\n",
       "      <td>2.38</td>\n",
       "      <td>NaN</td>\n",
       "      <td>NaN</td>\n",
       "      <td>NaN</td>\n",
       "      <td>14.63</td>\n",
       "    </tr>\n",
       "    <tr>\n",
       "      <th>33</th>\n",
       "      <td>Pokemon X/Pokemon Y</td>\n",
       "      <td>3DS</td>\n",
       "      <td>2013-01-01</td>\n",
       "      <td>Role-Playing</td>\n",
       "      <td>5.28</td>\n",
       "      <td>4.19</td>\n",
       "      <td>4.35</td>\n",
       "      <td>0.78</td>\n",
       "      <td>NaN</td>\n",
       "      <td>NaN</td>\n",
       "      <td>NaN</td>\n",
       "      <td>14.60</td>\n",
       "    </tr>\n",
       "    <tr>\n",
       "      <th>34</th>\n",
       "      <td>Call of Duty: Black Ops II</td>\n",
       "      <td>PS3</td>\n",
       "      <td>2012-01-01</td>\n",
       "      <td>Shooter</td>\n",
       "      <td>4.99</td>\n",
       "      <td>5.73</td>\n",
       "      <td>0.65</td>\n",
       "      <td>2.42</td>\n",
       "      <td>83.0</td>\n",
       "      <td>5.3</td>\n",
       "      <td>M</td>\n",
       "      <td>13.79</td>\n",
       "    </tr>\n",
       "    <tr>\n",
       "      <th>...</th>\n",
       "      <td>...</td>\n",
       "      <td>...</td>\n",
       "      <td>...</td>\n",
       "      <td>...</td>\n",
       "      <td>...</td>\n",
       "      <td>...</td>\n",
       "      <td>...</td>\n",
       "      <td>...</td>\n",
       "      <td>...</td>\n",
       "      <td>...</td>\n",
       "      <td>...</td>\n",
       "      <td>...</td>\n",
       "    </tr>\n",
       "    <tr>\n",
       "      <th>16703</th>\n",
       "      <td>Strawberry Nauts</td>\n",
       "      <td>PSV</td>\n",
       "      <td>2016-01-01</td>\n",
       "      <td>Adventure</td>\n",
       "      <td>0.00</td>\n",
       "      <td>0.00</td>\n",
       "      <td>0.01</td>\n",
       "      <td>0.00</td>\n",
       "      <td>NaN</td>\n",
       "      <td>NaN</td>\n",
       "      <td>NaN</td>\n",
       "      <td>0.01</td>\n",
       "    </tr>\n",
       "    <tr>\n",
       "      <th>16707</th>\n",
       "      <td>Aiyoku no Eustia</td>\n",
       "      <td>PSV</td>\n",
       "      <td>2014-01-01</td>\n",
       "      <td>Misc</td>\n",
       "      <td>0.00</td>\n",
       "      <td>0.00</td>\n",
       "      <td>0.01</td>\n",
       "      <td>0.00</td>\n",
       "      <td>NaN</td>\n",
       "      <td>NaN</td>\n",
       "      <td>NaN</td>\n",
       "      <td>0.01</td>\n",
       "    </tr>\n",
       "    <tr>\n",
       "      <th>16710</th>\n",
       "      <td>Samurai Warriors: Sanada Maru</td>\n",
       "      <td>PS3</td>\n",
       "      <td>2016-01-01</td>\n",
       "      <td>Action</td>\n",
       "      <td>0.00</td>\n",
       "      <td>0.00</td>\n",
       "      <td>0.01</td>\n",
       "      <td>0.00</td>\n",
       "      <td>NaN</td>\n",
       "      <td>NaN</td>\n",
       "      <td>NaN</td>\n",
       "      <td>0.01</td>\n",
       "    </tr>\n",
       "    <tr>\n",
       "      <th>16712</th>\n",
       "      <td>Haitaka no Psychedelica</td>\n",
       "      <td>PSV</td>\n",
       "      <td>2016-01-01</td>\n",
       "      <td>Adventure</td>\n",
       "      <td>0.00</td>\n",
       "      <td>0.00</td>\n",
       "      <td>0.01</td>\n",
       "      <td>0.00</td>\n",
       "      <td>NaN</td>\n",
       "      <td>NaN</td>\n",
       "      <td>NaN</td>\n",
       "      <td>0.01</td>\n",
       "    </tr>\n",
       "    <tr>\n",
       "      <th>16714</th>\n",
       "      <td>Winning Post 8 2016</td>\n",
       "      <td>PSV</td>\n",
       "      <td>2016-01-01</td>\n",
       "      <td>Simulation</td>\n",
       "      <td>0.00</td>\n",
       "      <td>0.00</td>\n",
       "      <td>0.01</td>\n",
       "      <td>0.00</td>\n",
       "      <td>NaN</td>\n",
       "      <td>NaN</td>\n",
       "      <td>NaN</td>\n",
       "      <td>0.01</td>\n",
       "    </tr>\n",
       "  </tbody>\n",
       "</table>\n",
       "<p>2886 rows × 12 columns</p>\n",
       "</div>"
      ],
      "text/plain": [
       "                                name platform year_of_release         genre  \\\n",
       "16                Grand Theft Auto V      PS3      2013-01-01        Action   \n",
       "23                Grand Theft Auto V     X360      2013-01-01        Action   \n",
       "31         Call of Duty: Black Ops 3      PS4      2015-01-01       Shooter   \n",
       "33               Pokemon X/Pokemon Y      3DS      2013-01-01  Role-Playing   \n",
       "34        Call of Duty: Black Ops II      PS3      2012-01-01       Shooter   \n",
       "...                              ...      ...             ...           ...   \n",
       "16703               Strawberry Nauts      PSV      2016-01-01     Adventure   \n",
       "16707               Aiyoku no Eustia      PSV      2014-01-01          Misc   \n",
       "16710  Samurai Warriors: Sanada Maru      PS3      2016-01-01        Action   \n",
       "16712        Haitaka no Psychedelica      PSV      2016-01-01     Adventure   \n",
       "16714            Winning Post 8 2016      PSV      2016-01-01    Simulation   \n",
       "\n",
       "       na_sales  eu_sales  jp_sales  other_sales  critic_score  user_score  \\\n",
       "16         7.02      9.09      0.98         3.96          97.0         8.2   \n",
       "23         9.66      5.14      0.06         1.41          97.0         8.1   \n",
       "31         6.03      5.86      0.36         2.38           NaN         NaN   \n",
       "33         5.28      4.19      4.35         0.78           NaN         NaN   \n",
       "34         4.99      5.73      0.65         2.42          83.0         5.3   \n",
       "...         ...       ...       ...          ...           ...         ...   \n",
       "16703      0.00      0.00      0.01         0.00           NaN         NaN   \n",
       "16707      0.00      0.00      0.01         0.00           NaN         NaN   \n",
       "16710      0.00      0.00      0.01         0.00           NaN         NaN   \n",
       "16712      0.00      0.00      0.01         0.00           NaN         NaN   \n",
       "16714      0.00      0.00      0.01         0.00           NaN         NaN   \n",
       "\n",
       "      rating  total_sales  \n",
       "16         M        21.05  \n",
       "23         M        16.27  \n",
       "31       NaN        14.63  \n",
       "33       NaN        14.60  \n",
       "34         M        13.79  \n",
       "...      ...          ...  \n",
       "16703    NaN         0.01  \n",
       "16707    NaN         0.01  \n",
       "16710    NaN         0.01  \n",
       "16712    NaN         0.01  \n",
       "16714    NaN         0.01  \n",
       "\n",
       "[2886 rows x 12 columns]"
      ]
     },
     "execution_count": 42,
     "metadata": {},
     "output_type": "execute_result"
    }
   ],
   "source": [
    "df_years_selected"
   ]
  },
  {
   "cell_type": "code",
   "execution_count": 43,
   "metadata": {},
   "outputs": [
    {
     "data": {
      "text/html": [
       "<div>\n",
       "<style scoped>\n",
       "    .dataframe tbody tr th:only-of-type {\n",
       "        vertical-align: middle;\n",
       "    }\n",
       "\n",
       "    .dataframe tbody tr th {\n",
       "        vertical-align: top;\n",
       "    }\n",
       "\n",
       "    .dataframe thead th {\n",
       "        text-align: right;\n",
       "    }\n",
       "</style>\n",
       "<table border=\"1\" class=\"dataframe\">\n",
       "  <thead>\n",
       "    <tr style=\"text-align: right;\">\n",
       "      <th></th>\n",
       "      <th>platform</th>\n",
       "      <th>genre</th>\n",
       "      <th>rating</th>\n",
       "      <th>na_sales</th>\n",
       "    </tr>\n",
       "  </thead>\n",
       "  <tbody>\n",
       "    <tr>\n",
       "      <th>16</th>\n",
       "      <td>PS3</td>\n",
       "      <td>Action</td>\n",
       "      <td>M</td>\n",
       "      <td>7.02</td>\n",
       "    </tr>\n",
       "    <tr>\n",
       "      <th>23</th>\n",
       "      <td>X360</td>\n",
       "      <td>Action</td>\n",
       "      <td>M</td>\n",
       "      <td>9.66</td>\n",
       "    </tr>\n",
       "    <tr>\n",
       "      <th>31</th>\n",
       "      <td>PS4</td>\n",
       "      <td>Shooter</td>\n",
       "      <td>NaN</td>\n",
       "      <td>6.03</td>\n",
       "    </tr>\n",
       "    <tr>\n",
       "      <th>33</th>\n",
       "      <td>3DS</td>\n",
       "      <td>Role-Playing</td>\n",
       "      <td>NaN</td>\n",
       "      <td>5.28</td>\n",
       "    </tr>\n",
       "    <tr>\n",
       "      <th>34</th>\n",
       "      <td>PS3</td>\n",
       "      <td>Shooter</td>\n",
       "      <td>M</td>\n",
       "      <td>4.99</td>\n",
       "    </tr>\n",
       "    <tr>\n",
       "      <th>...</th>\n",
       "      <td>...</td>\n",
       "      <td>...</td>\n",
       "      <td>...</td>\n",
       "      <td>...</td>\n",
       "    </tr>\n",
       "    <tr>\n",
       "      <th>16615</th>\n",
       "      <td>3DS</td>\n",
       "      <td>Puzzle</td>\n",
       "      <td>E</td>\n",
       "      <td>0.01</td>\n",
       "    </tr>\n",
       "    <tr>\n",
       "      <th>16618</th>\n",
       "      <td>PSV</td>\n",
       "      <td>Adventure</td>\n",
       "      <td>M</td>\n",
       "      <td>0.01</td>\n",
       "    </tr>\n",
       "    <tr>\n",
       "      <th>16660</th>\n",
       "      <td>XOne</td>\n",
       "      <td>Action</td>\n",
       "      <td>NaN</td>\n",
       "      <td>0.01</td>\n",
       "    </tr>\n",
       "    <tr>\n",
       "      <th>16672</th>\n",
       "      <td>XOne</td>\n",
       "      <td>Action</td>\n",
       "      <td>M</td>\n",
       "      <td>0.01</td>\n",
       "    </tr>\n",
       "    <tr>\n",
       "      <th>16678</th>\n",
       "      <td>PC</td>\n",
       "      <td>Strategy</td>\n",
       "      <td>T</td>\n",
       "      <td>0.01</td>\n",
       "    </tr>\n",
       "  </tbody>\n",
       "</table>\n",
       "<p>1677 rows × 4 columns</p>\n",
       "</div>"
      ],
      "text/plain": [
       "      platform         genre rating  na_sales\n",
       "16         PS3        Action      M      7.02\n",
       "23        X360        Action      M      9.66\n",
       "31         PS4       Shooter    NaN      6.03\n",
       "33         3DS  Role-Playing    NaN      5.28\n",
       "34         PS3       Shooter      M      4.99\n",
       "...        ...           ...    ...       ...\n",
       "16615      3DS        Puzzle      E      0.01\n",
       "16618      PSV     Adventure      M      0.01\n",
       "16660     XOne        Action    NaN      0.01\n",
       "16672     XOne        Action      M      0.01\n",
       "16678       PC      Strategy      T      0.01\n",
       "\n",
       "[1677 rows x 4 columns]"
      ]
     },
     "execution_count": 43,
     "metadata": {},
     "output_type": "execute_result"
    }
   ],
   "source": [
    "# Selección de la región na, con base en ventas mayores a 0 en esta región\n",
    "\n",
    "df_na = df_years_selected.query('na_sales > 0')[\n",
    "    ['platform', 'genre', 'rating', 'na_sales']]\n",
    "\n",
    "df_na"
   ]
  },
  {
   "cell_type": "code",
   "execution_count": 44,
   "metadata": {},
   "outputs": [
    {
     "data": {
      "image/png": "[encoded data removed]",
      "text/plain": [
       "<Figure size 640x480 with 1 Axes>"
      ]
     },
     "metadata": {},
     "output_type": "display_data"
    }
   ],
   "source": [
    "# Agrupación de plataformas y sus ventas en la región\n",
    "\n",
    "na_share = df_na.groupby('platform')['na_sales'].sum(\n",
    ").sort_values(ascending=False).reset_index()\n",
    "\n",
    "# Creo una columna que muestre la participación de mercado de cada plataforma en su región\n",
    "\n",
    "na_share['market_share'] = na_share['na_sales']/na_share['na_sales'].sum()*100\n",
    "\n",
    "# Gráfico de la participación de mercado\n",
    "\n",
    "sns.barplot(na_share, x='platform', y='market_share')\n",
    "\n",
    "# Título\n",
    "\n",
    "plt.title('Participación de mercado de cada plataforma en NA')\n",
    "\n",
    "plt.show()"
   ]
  },
  {
   "cell_type": "markdown",
   "metadata": {},
   "source": [
    "<span style=color:blue> Comentario:\n",
    "\n",
    "En la región de Norteamérica, las 5 plataformas con más ventas son:\n",
    "1. X360\n",
    "2. PS3\n",
    "3. PS4\n",
    "4. XOne\n",
    "5. 3DS\n",
    "\n",
    "- En esta región, X360, se coloca como el primer lugar, con una diferencia de más de 5 puntos de MS sobre PS3 y más de 10 puntos sobre PS4.\n",
    "- Las posiciones 3,4 y 5 tiene una diferencia menor entre ellas, de menos 3 puntos de MS."
   ]
  },
  {
   "cell_type": "code",
   "execution_count": 45,
   "metadata": {},
   "outputs": [
    {
     "data": {
      "text/html": [
       "<div>\n",
       "<style scoped>\n",
       "    .dataframe tbody tr th:only-of-type {\n",
       "        vertical-align: middle;\n",
       "    }\n",
       "\n",
       "    .dataframe tbody tr th {\n",
       "        vertical-align: top;\n",
       "    }\n",
       "\n",
       "    .dataframe thead th {\n",
       "        text-align: right;\n",
       "    }\n",
       "</style>\n",
       "<table border=\"1\" class=\"dataframe\">\n",
       "  <thead>\n",
       "    <tr style=\"text-align: right;\">\n",
       "      <th></th>\n",
       "      <th>genre</th>\n",
       "      <th>na_sales</th>\n",
       "    </tr>\n",
       "  </thead>\n",
       "  <tbody>\n",
       "    <tr>\n",
       "      <th>0</th>\n",
       "      <td>Action</td>\n",
       "      <td>177.84</td>\n",
       "    </tr>\n",
       "    <tr>\n",
       "      <th>1</th>\n",
       "      <td>Shooter</td>\n",
       "      <td>144.77</td>\n",
       "    </tr>\n",
       "    <tr>\n",
       "      <th>2</th>\n",
       "      <td>Sports</td>\n",
       "      <td>81.53</td>\n",
       "    </tr>\n",
       "    <tr>\n",
       "      <th>3</th>\n",
       "      <td>Role-Playing</td>\n",
       "      <td>64.00</td>\n",
       "    </tr>\n",
       "    <tr>\n",
       "      <th>4</th>\n",
       "      <td>Misc</td>\n",
       "      <td>38.19</td>\n",
       "    </tr>\n",
       "    <tr>\n",
       "      <th>5</th>\n",
       "      <td>Platform</td>\n",
       "      <td>25.38</td>\n",
       "    </tr>\n",
       "    <tr>\n",
       "      <th>6</th>\n",
       "      <td>Fighting</td>\n",
       "      <td>19.79</td>\n",
       "    </tr>\n",
       "    <tr>\n",
       "      <th>7</th>\n",
       "      <td>Racing</td>\n",
       "      <td>17.22</td>\n",
       "    </tr>\n",
       "    <tr>\n",
       "      <th>8</th>\n",
       "      <td>Adventure</td>\n",
       "      <td>8.92</td>\n",
       "    </tr>\n",
       "    <tr>\n",
       "      <th>9</th>\n",
       "      <td>Simulation</td>\n",
       "      <td>7.97</td>\n",
       "    </tr>\n",
       "    <tr>\n",
       "      <th>10</th>\n",
       "      <td>Strategy</td>\n",
       "      <td>4.23</td>\n",
       "    </tr>\n",
       "    <tr>\n",
       "      <th>11</th>\n",
       "      <td>Puzzle</td>\n",
       "      <td>1.13</td>\n",
       "    </tr>\n",
       "  </tbody>\n",
       "</table>\n",
       "</div>"
      ],
      "text/plain": [
       "           genre  na_sales\n",
       "0         Action    177.84\n",
       "1        Shooter    144.77\n",
       "2         Sports     81.53\n",
       "3   Role-Playing     64.00\n",
       "4           Misc     38.19\n",
       "5       Platform     25.38\n",
       "6       Fighting     19.79\n",
       "7         Racing     17.22\n",
       "8      Adventure      8.92\n",
       "9     Simulation      7.97\n",
       "10      Strategy      4.23\n",
       "11        Puzzle      1.13"
      ]
     },
     "execution_count": 45,
     "metadata": {},
     "output_type": "execute_result"
    }
   ],
   "source": [
    "# Agrupación de géneros y sus ventas en la región\n",
    "\n",
    "df_na.groupby('genre')['na_sales'].sum().sort_values(\n",
    "    ascending=False).reset_index()"
   ]
  },
  {
   "cell_type": "markdown",
   "metadata": {},
   "source": [
    "<span style=color:blue> Comentario:\n",
    "\n",
    "En la región de Norteamérica, los 5 géneros con más ventas son:\n",
    "1. Action\n",
    "2. Shooter\n",
    "3. Sports\n",
    "4. Role-Playing\n",
    "5. Misc\n",
    "\n",
    "Este ranking es similar al mundial, solo difiere por el género Sport que ocupa la posición 3 en la región y el 4 en el mundial."
   ]
  },
  {
   "cell_type": "code",
   "execution_count": 46,
   "metadata": {},
   "outputs": [
    {
     "data": {
      "text/plain": [
       "Text(0.5, 1.0, 'Ventas en la región NA por rating ESRB')"
      ]
     },
     "execution_count": 46,
     "metadata": {},
     "output_type": "execute_result"
    },
    {
     "data": {
      "image/png": "[encoded data removed]",
      "text/plain": [
       "<Figure size 640x480 with 1 Axes>"
      ]
     },
     "metadata": {},
     "output_type": "display_data"
    }
   ],
   "source": [
    "# Distribución de ventas, con base en el rating ESRB\n",
    "\n",
    "sns.boxplot(df_na, x='rating', y='na_sales')  # Creación de diagrama de caja\n",
    "\n",
    "plt.title('Ventas en la región NA por rating ESRB')"
   ]
  },
  {
   "cell_type": "markdown",
   "metadata": {},
   "source": [
    "<span style=color:blue> Comentario:\n",
    "\n",
    "- Las juegos con ventas más altas tiene clasificación M (Mayores de 17 años).\n",
    "- Las clasificaciones E, E10+ y T tienen ventas similares.\n",
    "- En todas las clasificaciones, las ventas por arriba de 1.5 millones de dólares, son atípicas."
   ]
  },
  {
   "cell_type": "markdown",
   "metadata": {},
   "source": [
    "##### Región UE"
   ]
  },
  {
   "cell_type": "code",
   "execution_count": 47,
   "metadata": {},
   "outputs": [
    {
     "data": {
      "text/html": [
       "<div>\n",
       "<style scoped>\n",
       "    .dataframe tbody tr th:only-of-type {\n",
       "        vertical-align: middle;\n",
       "    }\n",
       "\n",
       "    .dataframe tbody tr th {\n",
       "        vertical-align: top;\n",
       "    }\n",
       "\n",
       "    .dataframe thead th {\n",
       "        text-align: right;\n",
       "    }\n",
       "</style>\n",
       "<table border=\"1\" class=\"dataframe\">\n",
       "  <thead>\n",
       "    <tr style=\"text-align: right;\">\n",
       "      <th></th>\n",
       "      <th>platform</th>\n",
       "      <th>genre</th>\n",
       "      <th>rating</th>\n",
       "      <th>eu_sales</th>\n",
       "    </tr>\n",
       "  </thead>\n",
       "  <tbody>\n",
       "    <tr>\n",
       "      <th>16</th>\n",
       "      <td>PS3</td>\n",
       "      <td>Action</td>\n",
       "      <td>M</td>\n",
       "      <td>9.09</td>\n",
       "    </tr>\n",
       "    <tr>\n",
       "      <th>23</th>\n",
       "      <td>X360</td>\n",
       "      <td>Action</td>\n",
       "      <td>M</td>\n",
       "      <td>5.14</td>\n",
       "    </tr>\n",
       "    <tr>\n",
       "      <th>31</th>\n",
       "      <td>PS4</td>\n",
       "      <td>Shooter</td>\n",
       "      <td>NaN</td>\n",
       "      <td>5.86</td>\n",
       "    </tr>\n",
       "    <tr>\n",
       "      <th>33</th>\n",
       "      <td>3DS</td>\n",
       "      <td>Role-Playing</td>\n",
       "      <td>NaN</td>\n",
       "      <td>4.19</td>\n",
       "    </tr>\n",
       "    <tr>\n",
       "      <th>34</th>\n",
       "      <td>PS3</td>\n",
       "      <td>Shooter</td>\n",
       "      <td>M</td>\n",
       "      <td>5.73</td>\n",
       "    </tr>\n",
       "    <tr>\n",
       "      <th>...</th>\n",
       "      <td>...</td>\n",
       "      <td>...</td>\n",
       "      <td>...</td>\n",
       "      <td>...</td>\n",
       "    </tr>\n",
       "    <tr>\n",
       "      <th>16645</th>\n",
       "      <td>XOne</td>\n",
       "      <td>Action</td>\n",
       "      <td>NaN</td>\n",
       "      <td>0.01</td>\n",
       "    </tr>\n",
       "    <tr>\n",
       "      <th>16652</th>\n",
       "      <td>WiiU</td>\n",
       "      <td>Action</td>\n",
       "      <td>E</td>\n",
       "      <td>0.01</td>\n",
       "    </tr>\n",
       "    <tr>\n",
       "      <th>16654</th>\n",
       "      <td>X360</td>\n",
       "      <td>Action</td>\n",
       "      <td>E10+</td>\n",
       "      <td>0.01</td>\n",
       "    </tr>\n",
       "    <tr>\n",
       "      <th>16674</th>\n",
       "      <td>PS3</td>\n",
       "      <td>Action</td>\n",
       "      <td>NaN</td>\n",
       "      <td>0.01</td>\n",
       "    </tr>\n",
       "    <tr>\n",
       "      <th>16692</th>\n",
       "      <td>PC</td>\n",
       "      <td>Action</td>\n",
       "      <td>M</td>\n",
       "      <td>0.01</td>\n",
       "    </tr>\n",
       "  </tbody>\n",
       "</table>\n",
       "<p>1811 rows × 4 columns</p>\n",
       "</div>"
      ],
      "text/plain": [
       "      platform         genre rating  eu_sales\n",
       "16         PS3        Action      M      9.09\n",
       "23        X360        Action      M      5.14\n",
       "31         PS4       Shooter    NaN      5.86\n",
       "33         3DS  Role-Playing    NaN      4.19\n",
       "34         PS3       Shooter      M      5.73\n",
       "...        ...           ...    ...       ...\n",
       "16645     XOne        Action    NaN      0.01\n",
       "16652     WiiU        Action      E      0.01\n",
       "16654     X360        Action   E10+      0.01\n",
       "16674      PS3        Action    NaN      0.01\n",
       "16692       PC        Action      M      0.01\n",
       "\n",
       "[1811 rows x 4 columns]"
      ]
     },
     "execution_count": 47,
     "metadata": {},
     "output_type": "execute_result"
    }
   ],
   "source": [
    "# Selección de la región eu, con base en ventas mayores a 0 en esta región\n",
    "\n",
    "df_eu = df_years_selected.query('eu_sales > 0')[\n",
    "    ['platform', 'genre', 'rating', 'eu_sales']]\n",
    "\n",
    "df_eu"
   ]
  },
  {
   "cell_type": "code",
   "execution_count": 48,
   "metadata": {},
   "outputs": [
    {
     "data": {
      "text/html": [
       "<div>\n",
       "<style scoped>\n",
       "    .dataframe tbody tr th:only-of-type {\n",
       "        vertical-align: middle;\n",
       "    }\n",
       "\n",
       "    .dataframe tbody tr th {\n",
       "        vertical-align: top;\n",
       "    }\n",
       "\n",
       "    .dataframe thead th {\n",
       "        text-align: right;\n",
       "    }\n",
       "</style>\n",
       "<table border=\"1\" class=\"dataframe\">\n",
       "  <thead>\n",
       "    <tr style=\"text-align: right;\">\n",
       "      <th></th>\n",
       "      <th>platform</th>\n",
       "      <th>eu_sales</th>\n",
       "    </tr>\n",
       "  </thead>\n",
       "  <tbody>\n",
       "    <tr>\n",
       "      <th>0</th>\n",
       "      <td>PS4</td>\n",
       "      <td>141.09</td>\n",
       "    </tr>\n",
       "    <tr>\n",
       "      <th>1</th>\n",
       "      <td>PS3</td>\n",
       "      <td>106.86</td>\n",
       "    </tr>\n",
       "    <tr>\n",
       "      <th>2</th>\n",
       "      <td>X360</td>\n",
       "      <td>74.52</td>\n",
       "    </tr>\n",
       "    <tr>\n",
       "      <th>3</th>\n",
       "      <td>XOne</td>\n",
       "      <td>51.59</td>\n",
       "    </tr>\n",
       "    <tr>\n",
       "      <th>4</th>\n",
       "      <td>3DS</td>\n",
       "      <td>42.64</td>\n",
       "    </tr>\n",
       "    <tr>\n",
       "      <th>5</th>\n",
       "      <td>PC</td>\n",
       "      <td>37.76</td>\n",
       "    </tr>\n",
       "    <tr>\n",
       "      <th>6</th>\n",
       "      <td>WiiU</td>\n",
       "      <td>25.13</td>\n",
       "    </tr>\n",
       "    <tr>\n",
       "      <th>7</th>\n",
       "      <td>Wii</td>\n",
       "      <td>11.92</td>\n",
       "    </tr>\n",
       "    <tr>\n",
       "      <th>8</th>\n",
       "      <td>PSV</td>\n",
       "      <td>11.36</td>\n",
       "    </tr>\n",
       "    <tr>\n",
       "      <th>9</th>\n",
       "      <td>DS</td>\n",
       "      <td>3.53</td>\n",
       "    </tr>\n",
       "    <tr>\n",
       "      <th>10</th>\n",
       "      <td>PSP</td>\n",
       "      <td>0.42</td>\n",
       "    </tr>\n",
       "  </tbody>\n",
       "</table>\n",
       "</div>"
      ],
      "text/plain": [
       "   platform  eu_sales\n",
       "0       PS4    141.09\n",
       "1       PS3    106.86\n",
       "2      X360     74.52\n",
       "3      XOne     51.59\n",
       "4       3DS     42.64\n",
       "5        PC     37.76\n",
       "6      WiiU     25.13\n",
       "7       Wii     11.92\n",
       "8       PSV     11.36\n",
       "9        DS      3.53\n",
       "10      PSP      0.42"
      ]
     },
     "execution_count": 48,
     "metadata": {},
     "output_type": "execute_result"
    }
   ],
   "source": [
    "# Agrupación de plataformas y sus ventas en la región\n",
    "\n",
    "df_eu.groupby('platform')['eu_sales'].sum(\n",
    ").sort_values(ascending=False).reset_index()"
   ]
  },
  {
   "cell_type": "code",
   "execution_count": 49,
   "metadata": {},
   "outputs": [
    {
     "data": {
      "image/png": "[encoded data removed]",
      "text/plain": [
       "<Figure size 640x480 with 1 Axes>"
      ]
     },
     "metadata": {},
     "output_type": "display_data"
    }
   ],
   "source": [
    "# Agrupación de plataformas y sus ventas en la región\n",
    "\n",
    "eu_share = df_eu.groupby('platform')['eu_sales'].sum(\n",
    ").sort_values(ascending=False).reset_index()\n",
    "\n",
    "# Creo una columna que muestre la participación de mercado de cada plataforma en su región\n",
    "\n",
    "eu_share['market_share'] = eu_share['eu_sales']/eu_share['eu_sales'].sum()*100\n",
    "\n",
    "# Gráfico de la participación de mercado\n",
    "\n",
    "sns.barplot(eu_share, x='platform', y='market_share')\n",
    "\n",
    "# Título\n",
    "\n",
    "plt.title('Participación de mercado de cada plataforma en EU')\n",
    "\n",
    "plt.show()"
   ]
  },
  {
   "cell_type": "markdown",
   "metadata": {},
   "source": [
    "<span style=color:blue> Comentario:\n",
    "\n",
    "En la región europea, las 5 plataformas con mayores ventas son:\n",
    "\n",
    "1. PS3\n",
    "2. PS4\n",
    "3. X360\n",
    "4. 3DS\n",
    "5. PC\n",
    "\n",
    "- En esta región, se invierten los primeros lugares, respecto a la región NA, con una ventaja de cerca de 7.5 puntos de MS entre PS3 y X360. \n",
    "- X360 duplica el MS de las plataformas 4 y 5 en el ranking. "
   ]
  },
  {
   "cell_type": "code",
   "execution_count": 50,
   "metadata": {},
   "outputs": [
    {
     "data": {
      "text/html": [
       "<div>\n",
       "<style scoped>\n",
       "    .dataframe tbody tr th:only-of-type {\n",
       "        vertical-align: middle;\n",
       "    }\n",
       "\n",
       "    .dataframe tbody tr th {\n",
       "        vertical-align: top;\n",
       "    }\n",
       "\n",
       "    .dataframe thead th {\n",
       "        text-align: right;\n",
       "    }\n",
       "</style>\n",
       "<table border=\"1\" class=\"dataframe\">\n",
       "  <thead>\n",
       "    <tr style=\"text-align: right;\">\n",
       "      <th></th>\n",
       "      <th>genre</th>\n",
       "      <th>eu_sales</th>\n",
       "    </tr>\n",
       "  </thead>\n",
       "  <tbody>\n",
       "    <tr>\n",
       "      <th>0</th>\n",
       "      <td>Action</td>\n",
       "      <td>159.34</td>\n",
       "    </tr>\n",
       "    <tr>\n",
       "      <th>1</th>\n",
       "      <td>Shooter</td>\n",
       "      <td>113.47</td>\n",
       "    </tr>\n",
       "    <tr>\n",
       "      <th>2</th>\n",
       "      <td>Sports</td>\n",
       "      <td>69.09</td>\n",
       "    </tr>\n",
       "    <tr>\n",
       "      <th>3</th>\n",
       "      <td>Role-Playing</td>\n",
       "      <td>48.53</td>\n",
       "    </tr>\n",
       "    <tr>\n",
       "      <th>4</th>\n",
       "      <td>Racing</td>\n",
       "      <td>27.29</td>\n",
       "    </tr>\n",
       "    <tr>\n",
       "      <th>5</th>\n",
       "      <td>Misc</td>\n",
       "      <td>26.32</td>\n",
       "    </tr>\n",
       "    <tr>\n",
       "      <th>6</th>\n",
       "      <td>Platform</td>\n",
       "      <td>21.41</td>\n",
       "    </tr>\n",
       "    <tr>\n",
       "      <th>7</th>\n",
       "      <td>Simulation</td>\n",
       "      <td>14.55</td>\n",
       "    </tr>\n",
       "    <tr>\n",
       "      <th>8</th>\n",
       "      <td>Fighting</td>\n",
       "      <td>10.79</td>\n",
       "    </tr>\n",
       "    <tr>\n",
       "      <th>9</th>\n",
       "      <td>Adventure</td>\n",
       "      <td>9.46</td>\n",
       "    </tr>\n",
       "    <tr>\n",
       "      <th>10</th>\n",
       "      <td>Strategy</td>\n",
       "      <td>5.17</td>\n",
       "    </tr>\n",
       "    <tr>\n",
       "      <th>11</th>\n",
       "      <td>Puzzle</td>\n",
       "      <td>1.40</td>\n",
       "    </tr>\n",
       "  </tbody>\n",
       "</table>\n",
       "</div>"
      ],
      "text/plain": [
       "           genre  eu_sales\n",
       "0         Action    159.34\n",
       "1        Shooter    113.47\n",
       "2         Sports     69.09\n",
       "3   Role-Playing     48.53\n",
       "4         Racing     27.29\n",
       "5           Misc     26.32\n",
       "6       Platform     21.41\n",
       "7     Simulation     14.55\n",
       "8       Fighting     10.79\n",
       "9      Adventure      9.46\n",
       "10      Strategy      5.17\n",
       "11        Puzzle      1.40"
      ]
     },
     "execution_count": 50,
     "metadata": {},
     "output_type": "execute_result"
    }
   ],
   "source": [
    "# Agrupación de géneros y sus ventas en la región\n",
    "\n",
    "df_eu.groupby('genre')['eu_sales'].sum().sort_values(\n",
    "    ascending=False).reset_index()"
   ]
  },
  {
   "cell_type": "markdown",
   "metadata": {},
   "source": [
    "<span style=color:blue> Comentario:\n",
    "\n",
    "En la región europea, los 5 géneros con más ventas son:\n",
    "1. Action\n",
    "2. Shooter\n",
    "3. Sports\n",
    "4. Role-Playing\n",
    "5. Racing\n",
    "\n",
    "Los géneros más populares son similares a los de norteamérica, solo cambiando la 5a posición, que en este caso lo ocupa el género Racing. "
   ]
  },
  {
   "cell_type": "code",
   "execution_count": 51,
   "metadata": {},
   "outputs": [
    {
     "data": {
      "text/plain": [
       "Text(0.5, 1.0, 'Ventas en la región EU por rating ESRB')"
      ]
     },
     "execution_count": 51,
     "metadata": {},
     "output_type": "execute_result"
    },
    {
     "data": {
      "image/png": "[encoded data removed]",
      "text/plain": [
       "<Figure size 640x480 with 1 Axes>"
      ]
     },
     "metadata": {},
     "output_type": "display_data"
    }
   ],
   "source": [
    "# Distribución de ventas, con base en el rating ESRB\n",
    "\n",
    "sns.boxplot(df_eu, x='rating', y='eu_sales')  # Creación de diagrama de caja\n",
    "\n",
    "plt.title('Ventas en la región EU por rating ESRB')"
   ]
  },
  {
   "cell_type": "markdown",
   "metadata": {},
   "source": [
    "<span style=color:blue> Comentario:\n",
    "\n",
    "- Las juegos con ventas más altas tiene clasificación M (Mayores de 17 años).\n",
    "- Las clasificaciones E, E10+ y T tienen ventas similares.\n",
    "- En todas las clasificaciones, las ventas por arriba de 1 millón de dólares, son atípicas."
   ]
  },
  {
   "cell_type": "markdown",
   "metadata": {},
   "source": [
    "##### Región JP"
   ]
  },
  {
   "cell_type": "code",
   "execution_count": 52,
   "metadata": {},
   "outputs": [
    {
     "data": {
      "text/html": [
       "<div>\n",
       "<style scoped>\n",
       "    .dataframe tbody tr th:only-of-type {\n",
       "        vertical-align: middle;\n",
       "    }\n",
       "\n",
       "    .dataframe tbody tr th {\n",
       "        vertical-align: top;\n",
       "    }\n",
       "\n",
       "    .dataframe thead th {\n",
       "        text-align: right;\n",
       "    }\n",
       "</style>\n",
       "<table border=\"1\" class=\"dataframe\">\n",
       "  <thead>\n",
       "    <tr style=\"text-align: right;\">\n",
       "      <th></th>\n",
       "      <th>platform</th>\n",
       "      <th>genre</th>\n",
       "      <th>rating</th>\n",
       "      <th>jp_sales</th>\n",
       "    </tr>\n",
       "  </thead>\n",
       "  <tbody>\n",
       "    <tr>\n",
       "      <th>16</th>\n",
       "      <td>PS3</td>\n",
       "      <td>Action</td>\n",
       "      <td>M</td>\n",
       "      <td>0.98</td>\n",
       "    </tr>\n",
       "    <tr>\n",
       "      <th>23</th>\n",
       "      <td>X360</td>\n",
       "      <td>Action</td>\n",
       "      <td>M</td>\n",
       "      <td>0.06</td>\n",
       "    </tr>\n",
       "    <tr>\n",
       "      <th>31</th>\n",
       "      <td>PS4</td>\n",
       "      <td>Shooter</td>\n",
       "      <td>NaN</td>\n",
       "      <td>0.36</td>\n",
       "    </tr>\n",
       "    <tr>\n",
       "      <th>33</th>\n",
       "      <td>3DS</td>\n",
       "      <td>Role-Playing</td>\n",
       "      <td>NaN</td>\n",
       "      <td>4.35</td>\n",
       "    </tr>\n",
       "    <tr>\n",
       "      <th>34</th>\n",
       "      <td>PS3</td>\n",
       "      <td>Shooter</td>\n",
       "      <td>M</td>\n",
       "      <td>0.65</td>\n",
       "    </tr>\n",
       "    <tr>\n",
       "      <th>...</th>\n",
       "      <td>...</td>\n",
       "      <td>...</td>\n",
       "      <td>...</td>\n",
       "      <td>...</td>\n",
       "    </tr>\n",
       "    <tr>\n",
       "      <th>16703</th>\n",
       "      <td>PSV</td>\n",
       "      <td>Adventure</td>\n",
       "      <td>NaN</td>\n",
       "      <td>0.01</td>\n",
       "    </tr>\n",
       "    <tr>\n",
       "      <th>16707</th>\n",
       "      <td>PSV</td>\n",
       "      <td>Misc</td>\n",
       "      <td>NaN</td>\n",
       "      <td>0.01</td>\n",
       "    </tr>\n",
       "    <tr>\n",
       "      <th>16710</th>\n",
       "      <td>PS3</td>\n",
       "      <td>Action</td>\n",
       "      <td>NaN</td>\n",
       "      <td>0.01</td>\n",
       "    </tr>\n",
       "    <tr>\n",
       "      <th>16712</th>\n",
       "      <td>PSV</td>\n",
       "      <td>Adventure</td>\n",
       "      <td>NaN</td>\n",
       "      <td>0.01</td>\n",
       "    </tr>\n",
       "    <tr>\n",
       "      <th>16714</th>\n",
       "      <td>PSV</td>\n",
       "      <td>Simulation</td>\n",
       "      <td>NaN</td>\n",
       "      <td>0.01</td>\n",
       "    </tr>\n",
       "  </tbody>\n",
       "</table>\n",
       "<p>1569 rows × 4 columns</p>\n",
       "</div>"
      ],
      "text/plain": [
       "      platform         genre rating  jp_sales\n",
       "16         PS3        Action      M      0.98\n",
       "23        X360        Action      M      0.06\n",
       "31         PS4       Shooter    NaN      0.36\n",
       "33         3DS  Role-Playing    NaN      4.35\n",
       "34         PS3       Shooter      M      0.65\n",
       "...        ...           ...    ...       ...\n",
       "16703      PSV     Adventure    NaN      0.01\n",
       "16707      PSV          Misc    NaN      0.01\n",
       "16710      PS3        Action    NaN      0.01\n",
       "16712      PSV     Adventure    NaN      0.01\n",
       "16714      PSV    Simulation    NaN      0.01\n",
       "\n",
       "[1569 rows x 4 columns]"
      ]
     },
     "execution_count": 52,
     "metadata": {},
     "output_type": "execute_result"
    }
   ],
   "source": [
    "# Selección de la región jp, con base en ventas mayores a 0 en esta región\n",
    "\n",
    "df_jp = df_years_selected.query('jp_sales > 0')[\n",
    "    ['platform', 'genre', 'rating', 'jp_sales']]\n",
    "\n",
    "df_jp"
   ]
  },
  {
   "cell_type": "code",
   "execution_count": 53,
   "metadata": {},
   "outputs": [
    {
     "data": {
      "image/png": "[encoded data removed]",
      "text/plain": [
       "<Figure size 640x480 with 1 Axes>"
      ]
     },
     "metadata": {},
     "output_type": "display_data"
    }
   ],
   "source": [
    "# Agrupación de plataformas y sus ventas en la región\n",
    "\n",
    "jp_share = df_jp.groupby('platform')['jp_sales'].sum(\n",
    ").sort_values(ascending=False).reset_index()\n",
    "\n",
    "# Creo una columna que muestre la participación de mercado de cada plataforma en su región\n",
    "\n",
    "jp_share['market_share'] = jp_share['jp_sales']/jp_share['jp_sales'].sum()*100\n",
    "\n",
    "# Gráfico de la participación de mercado\n",
    "\n",
    "sns.barplot(jp_share, x='platform', y='market_share')\n",
    "\n",
    "# Título\n",
    "\n",
    "plt.title('Participación de mercado de cada plataforma en JP')\n",
    "\n",
    "plt.show()"
   ]
  },
  {
   "cell_type": "markdown",
   "metadata": {},
   "source": [
    "<span style=color:blue> Comentario:\n",
    "\n",
    "En Japón, las 5 plataformas con mayores ventas son:\n",
    "\n",
    "1. 3DS\n",
    "2. PS3\n",
    "3. PSP\n",
    "4. PSV\n",
    "5. PS4\n",
    "\n",
    "- No solo hay un gran domino de las plataformas de origen asiático en la región, también sobresale la penetracion de mercado que tiene 3DS, con un MS de 40%, algo que ninguna plataforma tiene en otras regiones. \n",
    "- 3DS duplica el MS de PS3, con el segundo lugar, que a su vez duplica el de PSP (tercer lugar).\n",
    "- En esta región, X360 retrocede fuertemente hasta 8a posición con un MS de 3%."
   ]
  },
  {
   "cell_type": "code",
   "execution_count": 54,
   "metadata": {},
   "outputs": [
    {
     "data": {
      "text/html": [
       "<div>\n",
       "<style scoped>\n",
       "    .dataframe tbody tr th:only-of-type {\n",
       "        vertical-align: middle;\n",
       "    }\n",
       "\n",
       "    .dataframe tbody tr th {\n",
       "        vertical-align: top;\n",
       "    }\n",
       "\n",
       "    .dataframe thead th {\n",
       "        text-align: right;\n",
       "    }\n",
       "</style>\n",
       "<table border=\"1\" class=\"dataframe\">\n",
       "  <thead>\n",
       "    <tr style=\"text-align: right;\">\n",
       "      <th></th>\n",
       "      <th>genre</th>\n",
       "      <th>jp_sales</th>\n",
       "    </tr>\n",
       "  </thead>\n",
       "  <tbody>\n",
       "    <tr>\n",
       "      <th>0</th>\n",
       "      <td>Role-Playing</td>\n",
       "      <td>65.44</td>\n",
       "    </tr>\n",
       "    <tr>\n",
       "      <th>1</th>\n",
       "      <td>Action</td>\n",
       "      <td>52.80</td>\n",
       "    </tr>\n",
       "    <tr>\n",
       "      <th>2</th>\n",
       "      <td>Misc</td>\n",
       "      <td>12.86</td>\n",
       "    </tr>\n",
       "    <tr>\n",
       "      <th>3</th>\n",
       "      <td>Simulation</td>\n",
       "      <td>10.41</td>\n",
       "    </tr>\n",
       "    <tr>\n",
       "      <th>4</th>\n",
       "      <td>Fighting</td>\n",
       "      <td>9.44</td>\n",
       "    </tr>\n",
       "    <tr>\n",
       "      <th>5</th>\n",
       "      <td>Shooter</td>\n",
       "      <td>9.23</td>\n",
       "    </tr>\n",
       "    <tr>\n",
       "      <th>6</th>\n",
       "      <td>Platform</td>\n",
       "      <td>8.63</td>\n",
       "    </tr>\n",
       "    <tr>\n",
       "      <th>7</th>\n",
       "      <td>Adventure</td>\n",
       "      <td>8.24</td>\n",
       "    </tr>\n",
       "    <tr>\n",
       "      <th>8</th>\n",
       "      <td>Sports</td>\n",
       "      <td>8.01</td>\n",
       "    </tr>\n",
       "    <tr>\n",
       "      <th>9</th>\n",
       "      <td>Strategy</td>\n",
       "      <td>2.88</td>\n",
       "    </tr>\n",
       "    <tr>\n",
       "      <th>10</th>\n",
       "      <td>Racing</td>\n",
       "      <td>2.50</td>\n",
       "    </tr>\n",
       "    <tr>\n",
       "      <th>11</th>\n",
       "      <td>Puzzle</td>\n",
       "      <td>2.14</td>\n",
       "    </tr>\n",
       "  </tbody>\n",
       "</table>\n",
       "</div>"
      ],
      "text/plain": [
       "           genre  jp_sales\n",
       "0   Role-Playing     65.44\n",
       "1         Action     52.80\n",
       "2           Misc     12.86\n",
       "3     Simulation     10.41\n",
       "4       Fighting      9.44\n",
       "5        Shooter      9.23\n",
       "6       Platform      8.63\n",
       "7      Adventure      8.24\n",
       "8         Sports      8.01\n",
       "9       Strategy      2.88\n",
       "10        Racing      2.50\n",
       "11        Puzzle      2.14"
      ]
     },
     "execution_count": 54,
     "metadata": {},
     "output_type": "execute_result"
    }
   ],
   "source": [
    "# Agrupación de géneros y sus ventas en la región\n",
    "\n",
    "df_jp.groupby('genre')['jp_sales'].sum().sort_values(\n",
    "    ascending=False).reset_index()"
   ]
  },
  {
   "cell_type": "markdown",
   "metadata": {},
   "source": [
    "<span style=color:blue> Comentario:\n",
    "\n",
    "En la región japonesa, los 5 géneros con más ventas son:\n",
    "\n",
    "1. Role-Playing\n",
    "2. Action\n",
    "3. Misc\n",
    "4. Fighting\n",
    "5. Platform\n",
    "\n",
    "- Los géneros más populares son muy distintos de aquellos en las regiones NA y EU. \n",
    "- Mientras el género Role-Playing se posiciona como el 4o más popular en NA y EU, en Japón es el número uno."
   ]
  },
  {
   "cell_type": "code",
   "execution_count": 55,
   "metadata": {},
   "outputs": [
    {
     "data": {
      "text/plain": [
       "Text(0.5, 1.0, 'Ventas en la región JP por rating ESRB')"
      ]
     },
     "execution_count": 55,
     "metadata": {},
     "output_type": "execute_result"
    },
    {
     "data": {
      "image/png": "[encoded data removed]",
      "text/plain": [
       "<Figure size 640x480 with 1 Axes>"
      ]
     },
     "metadata": {},
     "output_type": "display_data"
    }
   ],
   "source": [
    "# Distribución de ventas, con base en el rating ESRB\n",
    "\n",
    "sns.boxplot(df_jp, x='rating', y='jp_sales')  # Creación de diagrama de caja\n",
    "\n",
    "plt.title('Ventas en la región JP por rating ESRB')"
   ]
  },
  {
   "cell_type": "markdown",
   "metadata": {},
   "source": [
    "<span style=color:blue> Comentario:\n",
    "\n",
    "- Las juegos con ventas más altas tienen clasificación E (para todo público) y E10+ (mayores de 10 años), lo contrario a lo que sucede en las otras dos regiones, donde estas clasificaciones tienen las ventas más bajas.\n",
    "- La distribución de las ventas es diferente en esta región, con valores atípicos por arriba de 0.5 millones de dólares para el rating con más ventas (E), un nivel más bajo que en NA y EU (1.5 y 1 MUSD, respectivamente)."
   ]
  },
  {
   "cell_type": "markdown",
   "metadata": {},
   "source": [
    "<div class=\"alert alert-block alert-success\">\n",
    "<b>Comentario del revisor:</b> <a class=\"tocSkip\"></a>\n",
    "\n",
    "Excelente! Con este análisis por región ayuda a complementar el análisis general anterior y a hacer zoom a los resultados por cada una de las regiones.   \n",
    "\n",
    "</div>"
   ]
  },
  {
   "cell_type": "markdown",
   "metadata": {},
   "source": [
    "## Pruebas de hipótesis"
   ]
  },
  {
   "cell_type": "markdown",
   "metadata": {},
   "source": [
    "### Las calificaciones promedio de los usuarios para las plataformas Xbox One y PC son las mismas."
   ]
  },
  {
   "cell_type": "code",
   "execution_count": 56,
   "metadata": {},
   "outputs": [],
   "source": [
    "# Comienzo generando dos nuevos dataframe: uno para Xbox One y otro para PC\n",
    "\n",
    "# Filtro para XOne y extraigo la columna 'user_score'\n",
    "df_xone = df_years_selected.query('platform == \"XOne\"')['user_score']\n",
    "\n",
    "# Filtro para PC y extraigo la columna 'user_score'\n",
    "df_pc = df_years_selected.query('platform == \"PC\"')['user_score']"
   ]
  },
  {
   "cell_type": "code",
   "execution_count": 57,
   "metadata": {},
   "outputs": [],
   "source": [
    "# Para esta prueba eliminaré los valores ausentes en ambos dataframe.\n",
    "\n",
    "df_xone = df_xone.dropna()\n",
    "\n",
    "df_pc = df_pc.dropna()"
   ]
  },
  {
   "cell_type": "code",
   "execution_count": 58,
   "metadata": {},
   "outputs": [
    {
     "name": "stdout",
     "output_type": "stream",
     "text": [
      "valor p: 0.012514842818505541\n",
      "Rechazamos la hipótesis nula: las varianzas de las calificaciones de los usuarios de Xbox One y PC son diferentes\n"
     ]
    }
   ],
   "source": [
    "# Prueba de hipótesis sobre la igualdad de las medias de dos poblaciones\n",
    "\n",
    "# La prueba a realizar requiere conocer si las varianzas de las poblacione son iguales.\n",
    "# Realizaré primero una prueba de Levene, para determinar la igualdad de las varianzas.\n",
    "\n",
    "# Prueba de Levene\n",
    "\n",
    "# H0: las varianzas de las calificaciones de los usuarios de Xbox One y PC son iguales\n",
    "# HA: las varianzas de las calificaciones de los usuarios de Xbox One y PC son diferentes\n",
    "\n",
    "alpha = 0.05\n",
    "\n",
    "results = st.levene(df_xone, df_pc)\n",
    "\n",
    "print('valor p:', results.pvalue)\n",
    "\n",
    "if results.pvalue < alpha:\n",
    "    print('Rechazamos la hipótesis nula: las varianzas de las calificaciones de los usuarios de Xbox One y PC son diferentes')\n",
    "else:\n",
    "    print('No podemos rechazar la hipótesis nula: las varianzas de las calificaciones de los usuarios de Xbox One y PC son iguales')"
   ]
  },
  {
   "cell_type": "markdown",
   "metadata": {},
   "source": [
    "<div class=\"alert alert-block alert-success\">\n",
    "<b>Comentario revisor</b> <a class=\"tocSkip\"></a>\n",
    "\n",
    "Excelente trabajo!! Es importante mostrar si se cumplen los supuestos cuandor realizamos pruebas de hipótesis.\n",
    "</div>"
   ]
  },
  {
   "cell_type": "code",
   "execution_count": 59,
   "metadata": {},
   "outputs": [
    {
     "name": "stdout",
     "output_type": "stream",
     "text": [
      "valor p: 0.5489537965134912\n",
      "No podemos rechazar la hipótesis nula: las calificaciones promedio de los usuarios para las plataformas Xbox One y PC son las mismas.\n"
     ]
    }
   ],
   "source": [
    "# Realizo la prueba de hipótesis para estos datos:\n",
    "\n",
    "# H0: las calificaciones promedio de los usuarios para las plataformas Xbox One y PC son las mismas.\n",
    "# HA: las calificaciones promedio de los usuarios para las plataformas Xbox One y PC son diferentes.\n",
    "\n",
    "alpha = 0.05\n",
    "\n",
    "# Las varianzas son diferentes, de acuerdo a la prueba de Levene.\n",
    "results = st.ttest_ind(df_xone, df_pc, equal_var=False)\n",
    "\n",
    "print('valor p:', results.pvalue)\n",
    "\n",
    "if results.pvalue < alpha:\n",
    "    print('Rechazamos la hipótesis nula: las calificaciones promedio de los usuarios para las plataformas Xbox One y PC son diferentes.')\n",
    "else:\n",
    "    print('No podemos rechazar la hipótesis nula: las calificaciones promedio de los usuarios para las plataformas Xbox One y PC son las mismas.')"
   ]
  },
  {
   "cell_type": "markdown",
   "metadata": {},
   "source": [
    "### Las calificaciones promedio de los usuarios para los géneros de Acción y Deportes son diferentes."
   ]
  },
  {
   "cell_type": "code",
   "execution_count": 60,
   "metadata": {},
   "outputs": [],
   "source": [
    "# Comienzo generando dos nuevos dataframe: uno para género de acción y otro para deportes.\n",
    "\n",
    "# Filtro para XOne y extraigo la columna 'user_score'\n",
    "df_action = df_years_selected.query('genre == \"Action\"')['user_score']\n",
    "\n",
    "# Filtro para PC y extraigo la columna 'user_score'\n",
    "df_sports = df_years_selected.query('genre == \"Sports\"')['user_score']"
   ]
  },
  {
   "cell_type": "code",
   "execution_count": 61,
   "metadata": {},
   "outputs": [],
   "source": [
    "# Para esta prueba eliminaré los valores ausentes en ambos dataframe.\n",
    "\n",
    "df_action = df_action.dropna()\n",
    "\n",
    "df_sports = df_sports.dropna()"
   ]
  },
  {
   "cell_type": "code",
   "execution_count": 62,
   "metadata": {},
   "outputs": [
    {
     "name": "stdout",
     "output_type": "stream",
     "text": [
      "valor p: 1.3125789036876737e-05\n",
      "Rechazamos la hipótesis nula: las varianzas de las calificaciones de los usuarios de los géneros Action y Sports son diferentes.\n"
     ]
    }
   ],
   "source": [
    "# Prueba de hipótesis sobre la igualdad de las medias de dos poblaciones\n",
    "\n",
    "# La prueba a realizar requiere conocer si las varianzas de las poblacione son iguales.\n",
    "# Realizaré primero una prueba de Levene, para determinar la igualdad de las varianzas.\n",
    "\n",
    "# Prueba de Levene\n",
    "\n",
    "# H0: las varianzas de las calificaciones de los usuarios de los géneros Action y Sports son iguales.\n",
    "# HA: las varianzas de las calificaciones de los usuarios de los géneros Action y Sports son diferentes.\n",
    "\n",
    "alpha = 0.05\n",
    "\n",
    "results = st.levene(df_action, df_sports)\n",
    "\n",
    "print('valor p:', results.pvalue)\n",
    "\n",
    "if results.pvalue < alpha:\n",
    "    print('Rechazamos la hipótesis nula: las varianzas de las calificaciones de los usuarios de los géneros Action y Sports son diferentes.')\n",
    "else:\n",
    "    print('No podemos rechazar la hipótesis nula: las varianzas de las calificaciones de los usuarios de los géneros Action y Sports son iguales.')"
   ]
  },
  {
   "cell_type": "markdown",
   "metadata": {},
   "source": [
    "<div class=\"alert alert-block alert-success\">\n",
    "<b>Comentario revisor</b> <a class=\"tocSkip\"></a>\n",
    "\n",
    "Excelente trabajo!! Es importante mostrar si se cumplen los supuestos cuandor realizamos pruebas de hipótesis.\n",
    "</div>"
   ]
  },
  {
   "cell_type": "code",
   "execution_count": 63,
   "metadata": {},
   "outputs": [
    {
     "name": "stdout",
     "output_type": "stream",
     "text": [
      "valor p: 4.24307776572644e-20\n",
      "Rechazamos la hipótesis nula: las calificaciones promedio de los usuarios para los géneros de Acción y Deportes son diferentes.\n"
     ]
    }
   ],
   "source": [
    "# Realizo la prueba de hipótesis para estos datos:\n",
    "\n",
    "# H0: las calificaciones promedio de los usuarios para los géneros de Acción y Deportes son iguales.\n",
    "# HA: las calificaciones promedio de los usuarios para los géneros de Acción y Deportes son diferentes.\n",
    "\n",
    "alpha = 0.05\n",
    "\n",
    "# Las varianzas son diferentes, de acuerdo a la prueba de Levene.\n",
    "results = st.ttest_ind(df_action, df_sports, equal_var=False)\n",
    "\n",
    "print('valor p:', results.pvalue)\n",
    "\n",
    "if results.pvalue < alpha:\n",
    "    print('Rechazamos la hipótesis nula: las calificaciones promedio de los usuarios para los géneros de Acción y Deportes son diferentes.')\n",
    "else:\n",
    "    print('No podemos rechazar la hipótesis nula: las calificaciones promedio de los usuarios para los géneros de Acción y Deportes son iguales.')"
   ]
  },
  {
   "cell_type": "markdown",
   "metadata": {},
   "source": [
    "<div class=\"alert alert-block alert-success\">\n",
    "<b>Comentario revisor</b> <a class=\"tocSkip\"></a>\n",
    "\n",
    "Excelente trabajo con el desarrollo de las pruebas de hipótesis\n",
    "</div>"
   ]
  },
  {
   "cell_type": "markdown",
   "metadata": {},
   "source": [
    "<span style=color:blue> Comentario:\n",
    "\n",
    "De acuerdo a las pruebas de hipótesis realizadas:\n",
    "\n",
    "1. Las calificaciones de usuario para las plataformas Xbox One y pc son las mismas, lo cual quizas se deba a la relación que hay entre el creador de Xbox One (Microsoft) y su participación tan relevante en el sector de las PC.\n",
    "\n",
    "2. Las calificaciones de usuario para los géneros de acción y deportes son diferentes. Esto tiene bastante sentido, dado que no hay similitud entre estos géneros. "
   ]
  },
  {
   "cell_type": "markdown",
   "metadata": {},
   "source": [
    "## Conclusiones generales."
   ]
  },
  {
   "cell_type": "markdown",
   "metadata": {},
   "source": [
    "1. El tiempo de vida de las platformas es de 9 a 10 años, por lo que las seleccionadas para vender en los próximos años deben ser aquellas que aún no tengan ese tiempo. \n",
    "2. A nivel global, la mediana de ventas en todas las plataformas es de aproximadamente 0.5 millones de dólares, con ventas atípicas por arriba de 2 millones de dólares. Por lo tanto, un lanzamiento se puede considerar exitoso si vende más de 0.5 millones de dólares.\n",
    "3. En las plataformas Xbox 360, PS3 y PS4, las reseñas de los profesionales impactan ligeramente en las ventas. Sin embargo, las reseñas de los usuarios no tienen ningún impacto en las ventas.\n",
    "4. Las plataformas y géneros más exitosos dependen de la región. Un lanzamiento en Xbox 360 sería exitoso en Norteamérica, pero, definitivamente, no lo sería en Japón, donde la plataforma 3DS es el líder indiscutible. De la misma manera, un videojuego de Role-Playing sería muy exitoso en Japón, pero no en Norteamérica, donde es más exitoso el género de acción.\n",
    "5. El impacto del rating ESRB en las ventas también varía en cada región. Mientras en Japón los juegos más exitosos son para todas las edades (E o E10+), en Europa y Norteamérica son los clasificados para mayores de 17 años (M). \n",
    "6. Las calificaciones promedio de los usuarios para las plataformas Xbox One y PC son estadisticamente iguales, por lo que se pueden esperar reseñas similares para videojuegos lanzados en estas plataformas. \n",
    "7. Las calificaciones de usuario para los géneros de acción y deportes son diferentes. Esto tiene bastante sentido, dado que no hay similitud entre estos géneros."
   ]
  },
  {
   "cell_type": "markdown",
   "metadata": {},
   "source": [
    "<div class=\"alert alert-block alert-warning\">\n",
    "<b>Comentario revisor</b> <a class=\"tocSkip\"></a>\n",
    "\n",
    "En general creo que hiciste un muy buen trabajo con el proyecto, pudiste limpiar y trabajar las bases de datos de beuna manera. Además, el análisis explorario de datos fue completo al mostrar resultados relevantes que pueden ser de mucha utilidad para la toma de decisiones y desarrollaste las pruebas de hipótesis de una buena manera. No obstante, recuerda que siempre podemos mejorar y te menciono algunos puntos que debes considerar:\n",
    "\n",
    "* Verificar que cuando llenamos variables con valores nulos los estamos comletando con valores que no sesgan nuestros resultados\n",
    "\n",
    "*  Considerar eliminar registros atipicos que puedan sesgar nuestros resultados. \n",
    "\n",
    "    \n",
    "</div>"
   ]
  },
  {
   "cell_type": "markdown",
   "metadata": {},
   "source": [
    "<div class=\"alert alert-block alert-info\">\n",
    "<b>Respuesta del estudiante.</b> <a class=\"tocSkip\"></a>\n",
    "\n",
    "- Gracias Tonatiuh, complementé mis análisis respecto a los valores nulos y argumenté sobre mi decisión, espero que haya sido más acertada.\n",
    "\n",
    "- En esta ocasión eliminé valores atípicos para los análisis de correlación entre reseñas y ventas por plataforma, espero que eso haya sido correcto también.\n",
    "\n",
    "</div>"
   ]
  },
  {
   "cell_type": "markdown",
   "metadata": {},
   "source": [
    "<div class=\"alert alert-block alert-success\">\n",
    "<b>Comentario del revisor</b> <a class=\"tocSkip\"></a>\n",
    "\n",
    "Muy buen trabajo con los ajustes! Que sigas disfrutando los siguientes cursos!\n",
    "</div>"
   ]
  },
  {
   "cell_type": "markdown",
   "metadata": {},
   "source": []
  }
 ],
 "metadata": {
  "kernelspec": {
   "display_name": "Python 3 (ipykernel)",
   "language": "python",
   "name": "python3"
  },
  "language_info": {
   "codemirror_mode": {
    "name": "ipython",
    "version": 3
   },
   "file_extension": ".py",
   "mimetype": "text/x-python",
   "name": "python",
   "nbconvert_exporter": "python",
   "pygments_lexer": "ipython3",
   "version": "3.9.19"
  },
  "toc": {
   "base_numbering": 1,
   "nav_menu": {},
   "number_sections": true,
   "sideBar": true,
   "skip_h1_title": true,
   "title_cell": "Table of Contents",
   "title_sidebar": "Contents",
   "toc_cell": false,
   "toc_position": {},
   "toc_section_display": true,
   "toc_window_display": false
  }
 },
 "nbformat": 4,
 "nbformat_minor": 2
}
